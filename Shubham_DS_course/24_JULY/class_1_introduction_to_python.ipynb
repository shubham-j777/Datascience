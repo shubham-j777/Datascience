{
 "cells": [
  {
   "cell_type": "code",
   "execution_count": 1,
   "id": "babfcd37",
   "metadata": {},
   "outputs": [
    {
     "name": "stdout",
     "output_type": "stream",
     "text": [
      "Enter num1 = 4\n",
      "Enter num2 = 5\n",
      "res is ->  9\n"
     ]
    }
   ],
   "source": [
    "a= int(input(\"Enter num1 = \"))\n",
    "b= int(input(\"Enter num2 = \"))\n",
    "res = a+b;\n",
    "print(\"res is -> \",res)\n"
   ]
  },
  {
   "cell_type": "code",
   "execution_count": null,
   "id": "86ef4ced",
   "metadata": {},
   "outputs": [],
   "source": [
    "a= int(input(\"Enter num1 = \"))\n",
    "b= int(input(\"Enter num2 = \"))\n",
    "res = a-b;\n",
    "print(\"difference is -> \",res)\n"
   ]
  },
  {
   "cell_type": "code",
   "execution_count": null,
   "id": "1687454b",
   "metadata": {},
   "outputs": [],
   "source": [
    "a= int(input(\"Enter num1 = \"))\n",
    "b= int(input(\"Enter num2 = \"))\n",
    "res = a/b;\n",
    "print(\"Division is -> \",res)\n"
   ]
  },
  {
   "cell_type": "code",
   "execution_count": null,
   "id": "83674dc8",
   "metadata": {},
   "outputs": [],
   "source": [
    "a= int(input(\"Enter num1 = \"))\n",
    "b= int(input(\"Enter num2 = \"))\n",
    "res = a%b;\n",
    "print(\"Remainder is -> \",res)\n"
   ]
  },
  {
   "cell_type": "code",
   "execution_count": null,
   "id": "5f8ed8e3",
   "metadata": {},
   "outputs": [],
   "source": [
    "a= int(input(\"Enter num1 = \"))\n",
    "b= int(input(\"Enter num2 = \"))\n",
    "res = a//b;\n",
    "print(\"floor division is -> \",res)\n"
   ]
  },
  {
   "cell_type": "code",
   "execution_count": null,
   "id": "f536c45d",
   "metadata": {},
   "outputs": [],
   "source": [
    "Comparison operator"
   ]
  },
  {
   "cell_type": "code",
   "execution_count": null,
   "id": "851ca015",
   "metadata": {},
   "outputs": [],
   "source": [
    "a= int(input(\"Enter num1 = \"))\n",
    "b= int(input(\"Enter num2 = \"))\n",
    "res = a==b;\n",
    "print(\"Result is -> \",res)\n",
    "res = a>=b;\n",
    "print(\"Result is -> \",res)\n",
    "res = a<=b;\n",
    "print(\"Result is -> \",res)\n",
    "res = a<b;\n",
    "print(\"Result is -> \",res)\n",
    "res = a>b;\n",
    "print(\"Result is -> \",res)\n",
    "res = a!=b;\n",
    "print(\"Result is -> \",res)"
   ]
  },
  {
   "cell_type": "markdown",
   "id": "b9fcf903",
   "metadata": {},
   "source": []
  },
  {
   "cell_type": "code",
   "execution_count": null,
   "id": "74168f9f",
   "metadata": {},
   "outputs": [],
   "source": [
    "a = 10\n",
    "b = 20\n",
    "a>b\n",
    "a<b\n",
    "a>=b\n",
    "a<=b\n",
    "a!=b\n"
   ]
  },
  {
   "cell_type": "code",
   "execution_count": null,
   "id": "1577d443",
   "metadata": {},
   "outputs": [],
   "source": [
    "a = 10\n",
    "b = 20\n",
    "print(a>b)\n",
    "a<b\n",
    "a>=b\n",
    "a<=b\n",
    "a!=b"
   ]
  },
  {
   "cell_type": "code",
   "execution_count": null,
   "id": "a7d1a28b",
   "metadata": {},
   "outputs": [],
   "source": [
    "a = 10\n",
    "b = 20\n",
    "print(a>b)\n",
    "a<b\n",
    "print(a>=b)\n",
    "a<=b\n",
    "a!=b"
   ]
  },
  {
   "cell_type": "markdown",
   "id": "395ea30f",
   "metadata": {},
   "source": [
    "# Logical operator"
   ]
  },
  {
   "cell_type": "code",
   "execution_count": null,
   "id": "a8715e6f",
   "metadata": {},
   "outputs": [],
   "source": [
    "and or not"
   ]
  },
  {
   "cell_type": "markdown",
   "id": "b5fecce9",
   "metadata": {},
   "source": [
    "# NOT OPERATOR"
   ]
  },
  {
   "cell_type": "code",
   "execution_count": 2,
   "id": "0a18da80",
   "metadata": {},
   "outputs": [
    {
     "data": {
      "text/plain": [
       "False"
      ]
     },
     "execution_count": 2,
     "metadata": {},
     "output_type": "execute_result"
    }
   ],
   "source": [
    "not(True)"
   ]
  },
  {
   "cell_type": "code",
   "execution_count": 3,
   "id": "3787446b",
   "metadata": {},
   "outputs": [
    {
     "data": {
      "text/plain": [
       "True"
      ]
     },
     "execution_count": 3,
     "metadata": {},
     "output_type": "execute_result"
    }
   ],
   "source": [
    "not(False)"
   ]
  },
  {
   "cell_type": "code",
   "execution_count": 4,
   "id": "713f2114",
   "metadata": {},
   "outputs": [
    {
     "data": {
      "text/plain": [
       "False"
      ]
     },
     "execution_count": 4,
     "metadata": {},
     "output_type": "execute_result"
    }
   ],
   "source": [
    "not(1)"
   ]
  },
  {
   "cell_type": "code",
   "execution_count": 5,
   "id": "252102d3",
   "metadata": {},
   "outputs": [
    {
     "data": {
      "text/plain": [
       "True"
      ]
     },
     "execution_count": 5,
     "metadata": {},
     "output_type": "execute_result"
    }
   ],
   "source": [
    "not(0)"
   ]
  },
  {
   "cell_type": "code",
   "execution_count": 12,
   "id": "e926537d",
   "metadata": {},
   "outputs": [
    {
     "name": "stdout",
     "output_type": "stream",
     "text": [
      "False\n"
     ]
    }
   ],
   "source": [
    "print(not(10))"
   ]
  },
  {
   "cell_type": "markdown",
   "id": "804e38a3",
   "metadata": {},
   "source": [
    "# AND OPERATOR"
   ]
  },
  {
   "cell_type": "code",
   "execution_count": 7,
   "id": "f58b4219",
   "metadata": {},
   "outputs": [
    {
     "data": {
      "text/plain": [
       "False"
      ]
     },
     "execution_count": 7,
     "metadata": {},
     "output_type": "execute_result"
    }
   ],
   "source": [
    "False and True"
   ]
  },
  {
   "cell_type": "code",
   "execution_count": 8,
   "id": "1fb86502",
   "metadata": {},
   "outputs": [
    {
     "data": {
      "text/plain": [
       "False"
      ]
     },
     "execution_count": 8,
     "metadata": {},
     "output_type": "execute_result"
    }
   ],
   "source": [
    "True and False"
   ]
  },
  {
   "cell_type": "code",
   "execution_count": 9,
   "id": "c528b31e",
   "metadata": {},
   "outputs": [
    {
     "data": {
      "text/plain": [
       "True"
      ]
     },
     "execution_count": 9,
     "metadata": {},
     "output_type": "execute_result"
    }
   ],
   "source": [
    "True and True"
   ]
  },
  {
   "cell_type": "code",
   "execution_count": 13,
   "id": "81777b68",
   "metadata": {},
   "outputs": [
    {
     "data": {
      "text/plain": [
       "False"
      ]
     },
     "execution_count": 13,
     "metadata": {},
     "output_type": "execute_result"
    }
   ],
   "source": [
    "False and False"
   ]
  },
  {
   "cell_type": "code",
   "execution_count": 14,
   "id": "10c1e8e0",
   "metadata": {},
   "outputs": [
    {
     "data": {
      "text/plain": [
       "1"
      ]
     },
     "execution_count": 14,
     "metadata": {},
     "output_type": "execute_result"
    }
   ],
   "source": [
    "1 and 1"
   ]
  },
  {
   "cell_type": "code",
   "execution_count": 15,
   "id": "2835f891",
   "metadata": {},
   "outputs": [
    {
     "data": {
      "text/plain": [
       "0"
      ]
     },
     "execution_count": 15,
     "metadata": {},
     "output_type": "execute_result"
    }
   ],
   "source": [
    "0 and 0 "
   ]
  },
  {
   "cell_type": "code",
   "execution_count": 16,
   "id": "e1066c03",
   "metadata": {},
   "outputs": [
    {
     "data": {
      "text/plain": [
       "0"
      ]
     },
     "execution_count": 16,
     "metadata": {},
     "output_type": "execute_result"
    }
   ],
   "source": [
    "1 and 0"
   ]
  },
  {
   "cell_type": "code",
   "execution_count": 17,
   "id": "88845572",
   "metadata": {},
   "outputs": [
    {
     "data": {
      "text/plain": [
       "0"
      ]
     },
     "execution_count": 17,
     "metadata": {},
     "output_type": "execute_result"
    }
   ],
   "source": [
    "0 and 1"
   ]
  },
  {
   "cell_type": "code",
   "execution_count": 18,
   "id": "521b7f46",
   "metadata": {},
   "outputs": [
    {
     "data": {
      "text/plain": [
       "20"
      ]
     },
     "execution_count": 18,
     "metadata": {},
     "output_type": "execute_result"
    }
   ],
   "source": [
    "10 and 20"
   ]
  },
  {
   "cell_type": "code",
   "execution_count": 19,
   "id": "e4dd4dbd",
   "metadata": {},
   "outputs": [
    {
     "data": {
      "text/plain": [
       "10"
      ]
     },
     "execution_count": 19,
     "metadata": {},
     "output_type": "execute_result"
    }
   ],
   "source": [
    "20 and 10"
   ]
  },
  {
   "cell_type": "code",
   "execution_count": 23,
   "id": "80c7659a",
   "metadata": {},
   "outputs": [
    {
     "data": {
      "text/plain": [
       "0"
      ]
     },
     "execution_count": 23,
     "metadata": {},
     "output_type": "execute_result"
    }
   ],
   "source": [
    "20 and 10 and 30 and 0 and 15"
   ]
  },
  {
   "cell_type": "markdown",
   "id": "54f23307",
   "metadata": {},
   "source": [
    "# OR OPERATOR"
   ]
  },
  {
   "cell_type": "code",
   "execution_count": 24,
   "id": "f7151352",
   "metadata": {},
   "outputs": [
    {
     "data": {
      "text/plain": [
       "True"
      ]
     },
     "execution_count": 24,
     "metadata": {},
     "output_type": "execute_result"
    }
   ],
   "source": [
    "True or True "
   ]
  },
  {
   "cell_type": "code",
   "execution_count": 25,
   "id": "5c443662",
   "metadata": {},
   "outputs": [
    {
     "data": {
      "text/plain": [
       "True"
      ]
     },
     "execution_count": 25,
     "metadata": {},
     "output_type": "execute_result"
    }
   ],
   "source": [
    "True or False"
   ]
  },
  {
   "cell_type": "code",
   "execution_count": 26,
   "id": "e5a3cf03",
   "metadata": {},
   "outputs": [
    {
     "data": {
      "text/plain": [
       "False"
      ]
     },
     "execution_count": 26,
     "metadata": {},
     "output_type": "execute_result"
    }
   ],
   "source": [
    "False or False"
   ]
  },
  {
   "cell_type": "code",
   "execution_count": 27,
   "id": "7ccf1751",
   "metadata": {},
   "outputs": [
    {
     "data": {
      "text/plain": [
       "True"
      ]
     },
     "execution_count": 27,
     "metadata": {},
     "output_type": "execute_result"
    }
   ],
   "source": [
    "False or True"
   ]
  },
  {
   "cell_type": "code",
   "execution_count": 28,
   "id": "dc291c88",
   "metadata": {},
   "outputs": [
    {
     "data": {
      "text/plain": [
       "1"
      ]
     },
     "execution_count": 28,
     "metadata": {},
     "output_type": "execute_result"
    }
   ],
   "source": [
    "0 or 1"
   ]
  },
  {
   "cell_type": "code",
   "execution_count": 29,
   "id": "f8fa510d",
   "metadata": {},
   "outputs": [
    {
     "data": {
      "text/plain": [
       "1"
      ]
     },
     "execution_count": 29,
     "metadata": {},
     "output_type": "execute_result"
    }
   ],
   "source": [
    "1 or 0"
   ]
  },
  {
   "cell_type": "code",
   "execution_count": 39,
   "id": "1dbe64cb",
   "metadata": {},
   "outputs": [
    {
     "data": {
      "text/plain": [
       "1"
      ]
     },
     "execution_count": 39,
     "metadata": {},
     "output_type": "execute_result"
    }
   ],
   "source": [
    "1 or 1 or 0"
   ]
  },
  {
   "cell_type": "code",
   "execution_count": 31,
   "id": "bc4f5ac9",
   "metadata": {},
   "outputs": [
    {
     "data": {
      "text/plain": [
       "0"
      ]
     },
     "execution_count": 31,
     "metadata": {},
     "output_type": "execute_result"
    }
   ],
   "source": [
    "0 or 0"
   ]
  },
  {
   "cell_type": "code",
   "execution_count": 32,
   "id": "e1224b1d",
   "metadata": {},
   "outputs": [
    {
     "data": {
      "text/plain": [
       "10"
      ]
     },
     "execution_count": 32,
     "metadata": {},
     "output_type": "execute_result"
    }
   ],
   "source": [
    "10 or 20"
   ]
  },
  {
   "cell_type": "code",
   "execution_count": 33,
   "id": "cd211dc5",
   "metadata": {},
   "outputs": [
    {
     "data": {
      "text/plain": [
       "20"
      ]
     },
     "execution_count": 33,
     "metadata": {},
     "output_type": "execute_result"
    }
   ],
   "source": [
    "20 or 10"
   ]
  },
  {
   "cell_type": "code",
   "execution_count": 34,
   "id": "cc046d2b",
   "metadata": {},
   "outputs": [
    {
     "data": {
      "text/plain": [
       "10"
      ]
     },
     "execution_count": 34,
     "metadata": {},
     "output_type": "execute_result"
    }
   ],
   "source": [
    "10 or 10"
   ]
  },
  {
   "cell_type": "code",
   "execution_count": 35,
   "id": "06474c0c",
   "metadata": {},
   "outputs": [
    {
     "data": {
      "text/plain": [
       "20"
      ]
     },
     "execution_count": 35,
     "metadata": {},
     "output_type": "execute_result"
    }
   ],
   "source": [
    "20 or 20"
   ]
  },
  {
   "cell_type": "code",
   "execution_count": 36,
   "id": "1d64c196",
   "metadata": {},
   "outputs": [
    {
     "data": {
      "text/plain": [
       "10"
      ]
     },
     "execution_count": 36,
     "metadata": {},
     "output_type": "execute_result"
    }
   ],
   "source": [
    "10 or 20 or 10"
   ]
  },
  {
   "cell_type": "code",
   "execution_count": 37,
   "id": "a6a73469",
   "metadata": {},
   "outputs": [
    {
     "data": {
      "text/plain": [
       "10"
      ]
     },
     "execution_count": 37,
     "metadata": {},
     "output_type": "execute_result"
    }
   ],
   "source": [
    "0 or 10 or 0"
   ]
  },
  {
   "cell_type": "code",
   "execution_count": 38,
   "id": "53e70325",
   "metadata": {},
   "outputs": [
    {
     "data": {
      "text/plain": [
       "10"
      ]
     },
     "execution_count": 38,
     "metadata": {},
     "output_type": "execute_result"
    }
   ],
   "source": [
    "0 or 0 or 10 or 0 or 0"
   ]
  },
  {
   "cell_type": "markdown",
   "id": "fa6daf5d",
   "metadata": {},
   "source": [
    "# MEMBERSHIP OPERATOR "
   ]
  },
  {
   "cell_type": "code",
   "execution_count": null,
   "id": "0cf695a8",
   "metadata": {},
   "outputs": [],
   "source": [
    "in,not in"
   ]
  },
  {
   "cell_type": "code",
   "execution_count": 40,
   "id": "5f745fa3",
   "metadata": {},
   "outputs": [
    {
     "data": {
      "text/plain": [
       "False"
      ]
     },
     "execution_count": 40,
     "metadata": {},
     "output_type": "execute_result"
    }
   ],
   "source": [
    "a = \"THIS is pyhton\"\n",
    "'this'in a"
   ]
  },
  {
   "cell_type": "code",
   "execution_count": 41,
   "id": "181ce7da",
   "metadata": {},
   "outputs": [
    {
     "data": {
      "text/plain": [
       "True"
      ]
     },
     "execution_count": 41,
     "metadata": {},
     "output_type": "execute_result"
    }
   ],
   "source": [
    "a = \"This is pyhton\"\n",
    "'i'in a"
   ]
  },
  {
   "cell_type": "code",
   "execution_count": 42,
   "id": "ac023a49",
   "metadata": {},
   "outputs": [
    {
     "data": {
      "text/plain": [
       "True"
      ]
     },
     "execution_count": 42,
     "metadata": {},
     "output_type": "execute_result"
    }
   ],
   "source": [
    "a = \"This is pyhton\"\n",
    "' 'in a"
   ]
  },
  {
   "cell_type": "code",
   "execution_count": 43,
   "id": "f930a49b",
   "metadata": {},
   "outputs": [
    {
     "data": {
      "text/plain": [
       "True"
      ]
     },
     "execution_count": 43,
     "metadata": {},
     "output_type": "execute_result"
    }
   ],
   "source": [
    "a = \"This is pyhton\"\n",
    "'is i'in a"
   ]
  },
  {
   "cell_type": "code",
   "execution_count": 44,
   "id": "d448a8f0",
   "metadata": {},
   "outputs": [
    {
     "data": {
      "text/plain": [
       "True"
      ]
     },
     "execution_count": 44,
     "metadata": {},
     "output_type": "execute_result"
    }
   ],
   "source": [
    "a = \"This is my python class\"\n",
    "'i'in a"
   ]
  },
  {
   "cell_type": "code",
   "execution_count": 45,
   "id": "9de90d96",
   "metadata": {},
   "outputs": [
    {
     "data": {
      "text/plain": [
       "False"
      ]
     },
     "execution_count": 45,
     "metadata": {},
     "output_type": "execute_result"
    }
   ],
   "source": [
    "a = \"This is my python class\"\n",
    "'i m'in a"
   ]
  },
  {
   "cell_type": "code",
   "execution_count": 46,
   "id": "7d303771",
   "metadata": {},
   "outputs": [
    {
     "data": {
      "text/plain": [
       "True"
      ]
     },
     "execution_count": 46,
     "metadata": {},
     "output_type": "execute_result"
    }
   ],
   "source": [
    "a = \"This is my python class\"\n",
    "'this'not in a"
   ]
  },
  {
   "cell_type": "code",
   "execution_count": 47,
   "id": "0939f4ac",
   "metadata": {},
   "outputs": [
    {
     "data": {
      "text/plain": [
       "False"
      ]
     },
     "execution_count": 47,
     "metadata": {},
     "output_type": "execute_result"
    }
   ],
   "source": [
    "'ss' not in a"
   ]
  },
  {
   "cell_type": "markdown",
   "id": "a152f8b0",
   "metadata": {},
   "source": [
    "# IDENTITY OPERATOR"
   ]
  },
  {
   "cell_type": "code",
   "execution_count": null,
   "id": "f78d1fbd",
   "metadata": {},
   "outputs": [],
   "source": [
    "is,is not"
   ]
  },
  {
   "cell_type": "code",
   "execution_count": 48,
   "id": "29860cc0",
   "metadata": {},
   "outputs": [
    {
     "name": "stderr",
     "output_type": "stream",
     "text": [
      "<>:2: SyntaxWarning: \"is\" with a literal. Did you mean \"==\"?\n",
      "<>:2: SyntaxWarning: \"is\" with a literal. Did you mean \"==\"?\n",
      "C:\\Users\\shubh\\AppData\\Local\\Temp\\ipykernel_17212\\2399112754.py:2: SyntaxWarning: \"is\" with a literal. Did you mean \"==\"?\n",
      "  'This' is a\n"
     ]
    },
    {
     "data": {
      "text/plain": [
       "False"
      ]
     },
     "execution_count": 48,
     "metadata": {},
     "output_type": "execute_result"
    }
   ],
   "source": [
    "a = \"This is my python class\"\n",
    "'This' is a"
   ]
  },
  {
   "cell_type": "code",
   "execution_count": 49,
   "id": "458c0c09",
   "metadata": {},
   "outputs": [
    {
     "name": "stderr",
     "output_type": "stream",
     "text": [
      "<>:2: SyntaxWarning: \"is\" with a literal. Did you mean \"==\"?\n",
      "<>:2: SyntaxWarning: \"is\" with a literal. Did you mean \"==\"?\n",
      "C:\\Users\\shubh\\AppData\\Local\\Temp\\ipykernel_17212\\2742315665.py:2: SyntaxWarning: \"is\" with a literal. Did you mean \"==\"?\n",
      "  'This is my python class' is a\n"
     ]
    },
    {
     "data": {
      "text/plain": [
       "False"
      ]
     },
     "execution_count": 49,
     "metadata": {},
     "output_type": "execute_result"
    }
   ],
   "source": [
    "a = \"This is my python class\"\n",
    "'This is my python class' is a"
   ]
  },
  {
   "cell_type": "code",
   "execution_count": 50,
   "id": "907a1c5a",
   "metadata": {},
   "outputs": [
    {
     "name": "stderr",
     "output_type": "stream",
     "text": [
      "<>:2: SyntaxWarning: \"is\" with a literal. Did you mean \"==\"?\n",
      "<>:2: SyntaxWarning: \"is\" with a literal. Did you mean \"==\"?\n",
      "C:\\Users\\shubh\\AppData\\Local\\Temp\\ipykernel_17212\\2064979510.py:2: SyntaxWarning: \"is\" with a literal. Did you mean \"==\"?\n",
      "  'This' is a\n"
     ]
    },
    {
     "data": {
      "text/plain": [
       "True"
      ]
     },
     "execution_count": 50,
     "metadata": {},
     "output_type": "execute_result"
    }
   ],
   "source": [
    "a = \"This\"\n",
    "'This' is a"
   ]
  },
  {
   "cell_type": "code",
   "execution_count": 51,
   "id": "5592ff6d",
   "metadata": {},
   "outputs": [
    {
     "data": {
      "text/plain": [
       "False"
      ]
     },
     "execution_count": 51,
     "metadata": {},
     "output_type": "execute_result"
    }
   ],
   "source": [
    "a = \"This is my python class\"\n",
    "b = \"This is my python class\"\n",
    "b is a"
   ]
  },
  {
   "cell_type": "code",
   "execution_count": 52,
   "id": "3d4375d4",
   "metadata": {},
   "outputs": [
    {
     "data": {
      "text/plain": [
       "True"
      ]
     },
     "execution_count": 52,
     "metadata": {},
     "output_type": "execute_result"
    }
   ],
   "source": [
    "a = \"python\"\n",
    "b = \"python\"\n",
    "b is a"
   ]
  },
  {
   "cell_type": "markdown",
   "id": "1bf5a30b",
   "metadata": {},
   "source": [
    "# Quest 1"
   ]
  },
  {
   "cell_type": "code",
   "execution_count": null,
   "id": "bbafc539",
   "metadata": {},
   "outputs": [],
   "source": [
    "a = int(input(\"Enter num 1 = \"))\n",
    "b = int(input(\"Enter num 2 = \"))\n",
    "if(a>b):\n",
    "    print(\"num 1 is bigger \")\n",
    "elif(a==b):\n",
    "    print(\"num 1 is equal to num2\")\n",
    "else:\n",
    "    print(\"num 2 is bigger\")"
   ]
  },
  {
   "cell_type": "markdown",
   "id": "1a379746",
   "metadata": {},
   "source": [
    "# Quest 2"
   ]
  },
  {
   "cell_type": "code",
   "execution_count": null,
   "id": "77a5415e",
   "metadata": {},
   "outputs": [],
   "source": [
    "a = int(input(\"Enter num 1 = \"))\n",
    "b = int(input(\"Enter num 2 = \"))\n",
    "c = int(input(\"Enter num 3 = \"))\n",
    "if(a>b and a>c):\n",
    "    print(\"num 1 is bigger \")\n",
    "elif(b>a and b>c):\n",
    "    print(\"num 2 is bigger\")\n",
    "elif(c>a and c>a):\n",
    "    print(\"num 3 is bigger\")\n",
    "else:\n",
    "    print(\"all are same\")"
   ]
  },
  {
   "cell_type": "markdown",
   "id": "ab73ab82",
   "metadata": {},
   "source": [
    "# DATA TYPES"
   ]
  },
  {
   "cell_type": "code",
   "execution_count": null,
   "id": "a8ec3bed",
   "metadata": {},
   "outputs": [],
   "source": [
    "numeric -> int float complex \n",
    "sequence -> list tuple set dictionary string\n",
    "bool -> true or false"
   ]
  },
  {
   "cell_type": "code",
   "execution_count": null,
   "id": "db21ca9f",
   "metadata": {},
   "outputs": [],
   "source": [
    "a = 10+5j\n",
    "print(type(a))"
   ]
  },
  {
   "cell_type": "code",
   "execution_count": null,
   "id": "02109df1",
   "metadata": {},
   "outputs": [],
   "source": [
    "b = 30 + 6j\n",
    "res = a + b\n",
    "print(a+b)"
   ]
  },
  {
   "cell_type": "code",
   "execution_count": null,
   "id": "2a120940",
   "metadata": {},
   "outputs": [],
   "source": [
    "#code to take imput from user and add the complex number \n",
    "#input 1 =5 and input 2 = 14j\n",
    "\n",
    "x = complex(input(\"Enter input 1 : \"))\n",
    "y = complex(input(\"Enter input 2 : \"))\n",
    "res = x+y\n",
    "print(res)"
   ]
  },
  {
   "cell_type": "markdown",
   "id": "8eeaab2f",
   "metadata": {},
   "source": [
    "# Sequence data types"
   ]
  },
  {
   "cell_type": "markdown",
   "id": "9d7a92f4",
   "metadata": {},
   "source": [
    "# list"
   ]
  },
  {
   "cell_type": "code",
   "execution_count": null,
   "id": "9f54e718",
   "metadata": {},
   "outputs": [],
   "source": [
    "->mutable\n",
    "->contains different data types\n",
    "->enlosed in []\n",
    "->each element is seperated by ,"
   ]
  },
  {
   "cell_type": "code",
   "execution_count": null,
   "id": "55a4e190",
   "metadata": {},
   "outputs": [],
   "source": [
    "dir(list)"
   ]
  },
  {
   "cell_type": "code",
   "execution_count": 53,
   "id": "7ba6b5ec",
   "metadata": {},
   "outputs": [
    {
     "data": {
      "text/plain": [
       "11"
      ]
     },
     "execution_count": 53,
     "metadata": {},
     "output_type": "execute_result"
    }
   ],
   "source": [
    "a = [11,33,44,22,55,67]\n",
    "a[-6]"
   ]
  },
  {
   "cell_type": "code",
   "execution_count": 54,
   "id": "66213519",
   "metadata": {},
   "outputs": [
    {
     "ename": "IndexError",
     "evalue": "list index out of range",
     "output_type": "error",
     "traceback": [
      "\u001b[1;31m---------------------------------------------------------------------------\u001b[0m",
      "\u001b[1;31mIndexError\u001b[0m                                Traceback (most recent call last)",
      "Cell \u001b[1;32mIn[54], line 1\u001b[0m\n\u001b[1;32m----> 1\u001b[0m \u001b[43ma\u001b[49m\u001b[43m[\u001b[49m\u001b[38;5;241;43m33\u001b[39;49m\u001b[43m]\u001b[49m\n",
      "\u001b[1;31mIndexError\u001b[0m: list index out of range"
     ]
    }
   ],
   "source": [
    "a[33]"
   ]
  },
  {
   "cell_type": "code",
   "execution_count": 55,
   "id": "4107cf55",
   "metadata": {},
   "outputs": [
    {
     "data": {
      "text/plain": [
       "'t'"
      ]
     },
     "execution_count": 55,
     "metadata": {},
     "output_type": "execute_result"
    }
   ],
   "source": [
    "a = \"this is my python class\"\n",
    "a[0]"
   ]
  },
  {
   "cell_type": "code",
   "execution_count": 56,
   "id": "7b938343",
   "metadata": {},
   "outputs": [
    {
     "data": {
      "text/plain": [
       "'my'"
      ]
     },
     "execution_count": 56,
     "metadata": {},
     "output_type": "execute_result"
    }
   ],
   "source": [
    "a[8:10:1]"
   ]
  },
  {
   "cell_type": "code",
   "execution_count": 57,
   "id": "71414eb2",
   "metadata": {},
   "outputs": [
    {
     "data": {
      "text/plain": [
       "8"
      ]
     },
     "execution_count": 57,
     "metadata": {},
     "output_type": "execute_result"
    }
   ],
   "source": [
    "a.index(\"my\")"
   ]
  },
  {
   "cell_type": "code",
   "execution_count": 58,
   "id": "de16c0dc",
   "metadata": {},
   "outputs": [
    {
     "data": {
      "text/plain": [
       "'ti '"
      ]
     },
     "execution_count": 58,
     "metadata": {},
     "output_type": "execute_result"
    }
   ],
   "source": [
    "a[0:5:2]"
   ]
  },
  {
   "cell_type": "code",
   "execution_count": 59,
   "id": "d022ffc7",
   "metadata": {},
   "outputs": [
    {
     "name": "stdout",
     "output_type": "stream",
     "text": [
      "[1, 2, 3, 4, 5, 6, 7, 10]\n",
      "[]\n",
      "[8, 9, 10]\n",
      "1\n"
     ]
    }
   ],
   "source": [
    "a= [1,2,3,4,5,6,7]\n",
    "b= [8,9,10]\n",
    "\n",
    "a.append(10)\n",
    "print(a)\n",
    "a.clear()\n",
    "print(a)\n",
    "a=b.copy()\n",
    "print(a)\n",
    "print(a.count(8))\n"
   ]
  },
  {
   "cell_type": "code",
   "execution_count": 67,
   "id": "ba6159e4",
   "metadata": {},
   "outputs": [
    {
     "name": "stdout",
     "output_type": "stream",
     "text": [
      "[1, 2, 3, 4, 5, 6, 7, 8, 9, 10]\n"
     ]
    }
   ],
   "source": [
    "a = [1,2,3,4,5,6,7]\n",
    "b = [8,9,10]\n",
    "\n",
    "a.extend(b)\n",
    "print(a)"
   ]
  },
  {
   "cell_type": "code",
   "execution_count": 68,
   "id": "8c839e47",
   "metadata": {},
   "outputs": [
    {
     "name": "stdout",
     "output_type": "stream",
     "text": [
      "2\n"
     ]
    }
   ],
   "source": [
    "a = [1,2,3,4,5,6,7]\n",
    "b = [8,9,10]\n",
    "\n",
    "print(a.index(3))"
   ]
  },
  {
   "cell_type": "code",
   "execution_count": 69,
   "id": "28a8d0c6",
   "metadata": {},
   "outputs": [
    {
     "name": "stdout",
     "output_type": "stream",
     "text": [
      "[58, 1, 2, 3, 4, 5, 6, 7]\n"
     ]
    }
   ],
   "source": [
    "a = [1,2,3,4,5,6,7]\n",
    "b = [8,9,10]\n",
    "a.insert(0,58)\n",
    "print(a)"
   ]
  },
  {
   "cell_type": "code",
   "execution_count": 70,
   "id": "591f2c90",
   "metadata": {},
   "outputs": [
    {
     "name": "stdout",
     "output_type": "stream",
     "text": [
      "[1, 2, 4, 5, 6, 7]\n"
     ]
    }
   ],
   "source": [
    "a = [1,2,3,4,5,6,7]\n",
    "b = [8,9,10]\n",
    "a.pop(2)\n",
    "print(a)"
   ]
  },
  {
   "cell_type": "code",
   "execution_count": 71,
   "id": "88e601eb",
   "metadata": {},
   "outputs": [
    {
     "name": "stdout",
     "output_type": "stream",
     "text": [
      "[1, 2, 3, 4, 6, 7]\n"
     ]
    }
   ],
   "source": [
    "a = [1,2,3,4,5,6,7]\n",
    "b = [8,9,10]\n",
    "a.remove(5)\n",
    "print(a)"
   ]
  },
  {
   "cell_type": "code",
   "execution_count": 72,
   "id": "b7293ed5",
   "metadata": {},
   "outputs": [
    {
     "name": "stdout",
     "output_type": "stream",
     "text": [
      "[7, 6, 5, 4, 3, 2, 1]\n"
     ]
    }
   ],
   "source": [
    "a = [1,2,3,4,5,6,7]\n",
    "b = [8,9,10]\n",
    "a.reverse()\n",
    "print(a)"
   ]
  },
  {
   "cell_type": "code",
   "execution_count": 73,
   "id": "a7c6155d",
   "metadata": {},
   "outputs": [
    {
     "name": "stdout",
     "output_type": "stream",
     "text": [
      "[1, 2, 3, 4, 5, 6, 7]\n"
     ]
    }
   ],
   "source": [
    "a = [1,2,3,4,5,6,7]\n",
    "b = [8,9,10]\n",
    "a.sort()\n",
    "print(a)"
   ]
  },
  {
   "cell_type": "markdown",
   "id": "82ca67fb",
   "metadata": {},
   "source": [
    "# Tuple"
   ]
  },
  {
   "cell_type": "code",
   "execution_count": null,
   "id": "5352a276",
   "metadata": {},
   "outputs": [],
   "source": [
    "-immutable\n",
    "-enclose in ()\n",
    "-seperated by , \n",
    "-heterogeneous"
   ]
  },
  {
   "cell_type": "code",
   "execution_count": null,
   "id": "2f8393fa",
   "metadata": {},
   "outputs": [],
   "source": [
    "dir(tuple)"
   ]
  },
  {
   "cell_type": "code",
   "execution_count": 74,
   "id": "57d6eaca",
   "metadata": {},
   "outputs": [
    {
     "name": "stdout",
     "output_type": "stream",
     "text": [
      "3\n",
      "2\n"
     ]
    }
   ],
   "source": [
    "a = (1,2,3,4,3,3,4)\n",
    "\n",
    "print(a.count(3))\n",
    "print(a.index(3))"
   ]
  },
  {
   "cell_type": "code",
   "execution_count": 75,
   "id": "aa488538",
   "metadata": {},
   "outputs": [
    {
     "name": "stdout",
     "output_type": "stream",
     "text": [
      "[1, 2, 3, 4]\n",
      "<class 'list'>\n",
      "(1, 2, 3, 4)\n",
      "<class 'tuple'>\n",
      "[1, 2, 3, 4]\n",
      "<class 'list'>\n"
     ]
    }
   ],
   "source": [
    "#list to tuple \n",
    "\n",
    "a=[1,2,3,4]\n",
    "print(a)\n",
    "print(type(a))\n",
    "b = tuple(a)\n",
    "print(b)\n",
    "print(type(b))\n",
    "c= list(b)\n",
    "print(c)\n",
    "print(type(c))"
   ]
  },
  {
   "cell_type": "markdown",
   "id": "a1f571da",
   "metadata": {},
   "source": [
    "# String"
   ]
  },
  {
   "cell_type": "code",
   "execution_count": null,
   "id": "5a2fcde7",
   "metadata": {},
   "outputs": [],
   "source": [
    "- immutable\n",
    "- enclosed in 'x' or \"x\" or '''x'''\n",
    "- "
   ]
  },
  {
   "cell_type": "code",
   "execution_count": null,
   "id": "4905b7ec",
   "metadata": {},
   "outputs": [],
   "source": [
    "dir(str)"
   ]
  },
  {
   "cell_type": "code",
   "execution_count": 76,
   "id": "5c9e91d5",
   "metadata": {},
   "outputs": [
    {
     "data": {
      "text/plain": [
       "'This is test string'"
      ]
     },
     "execution_count": 76,
     "metadata": {},
     "output_type": "execute_result"
    }
   ],
   "source": [
    "a = 'this is test string'\n",
    "\n",
    "a.capitalize()"
   ]
  },
  {
   "cell_type": "code",
   "execution_count": 77,
   "id": "bff2ca7d",
   "metadata": {},
   "outputs": [
    {
     "data": {
      "text/plain": [
       "'This Is Test String'"
      ]
     },
     "execution_count": 77,
     "metadata": {},
     "output_type": "execute_result"
    }
   ],
   "source": [
    "a.title()"
   ]
  },
  {
   "cell_type": "code",
   "execution_count": 81,
   "id": "b02ba7a5",
   "metadata": {},
   "outputs": [
    {
     "data": {
      "text/plain": [
       "2"
      ]
     },
     "execution_count": 81,
     "metadata": {},
     "output_type": "execute_result"
    }
   ],
   "source": [
    "a.find('is')"
   ]
  },
  {
   "cell_type": "code",
   "execution_count": 82,
   "id": "0dae9d00",
   "metadata": {},
   "outputs": [
    {
     "data": {
      "text/plain": [
       "3"
      ]
     },
     "execution_count": 82,
     "metadata": {},
     "output_type": "execute_result"
    }
   ],
   "source": [
    "a.count('i')"
   ]
  },
  {
   "cell_type": "code",
   "execution_count": 91,
   "id": "f6f982e6",
   "metadata": {},
   "outputs": [
    {
     "name": "stdout",
     "output_type": "stream",
     "text": [
      "this is my python class\n",
      "this is my python class\n"
     ]
    }
   ],
   "source": [
    "a = \"this is\"\n",
    "b = 'my python class'\n",
    "\n",
    "print(a+\" \"+b)\n",
    "print(' '.join([a,b]))"
   ]
  },
  {
   "cell_type": "code",
   "execution_count": 94,
   "id": "5fdfb4f0",
   "metadata": {},
   "outputs": [
    {
     "name": "stdout",
     "output_type": "stream",
     "text": [
      "['this', 'is', 'my', 'python', 'class']\n",
      "['this', 'is', 'my', 'python', 'class']\n",
      "23\n",
      "000this is my python class\n"
     ]
    }
   ],
   "source": [
    "a = \"this is my python class\"\n",
    "\n",
    "b = a.split(\" \")\n",
    "print(b)\n",
    "\n",
    "c = a.split()\n",
    "print(c)\n",
    "\n",
    "print(len(a))\n",
    "\n",
    "d = a.zfill(26)\n",
    "print(d)\n"
   ]
  },
  {
   "cell_type": "markdown",
   "id": "bd77a25f",
   "metadata": {},
   "source": [
    "# SET"
   ]
  },
  {
   "cell_type": "code",
   "execution_count": null,
   "id": "6a67dd05",
   "metadata": {},
   "outputs": [],
   "source": [
    "->enclosed in {}\n",
    "->it contains unique elements no duplicacy is required\n",
    "->it is unordered collection of data\n",
    "->each element seperated by ,\n",
    "->we can perform mathematical operations on sets\n",
    "\n",
    "->it is mutable"
   ]
  },
  {
   "cell_type": "code",
   "execution_count": 95,
   "id": "e81b412f",
   "metadata": {},
   "outputs": [
    {
     "name": "stdout",
     "output_type": "stream",
     "text": [
      "{1, 2, 3, 4, 5, 6, 78, 82}\n"
     ]
    }
   ],
   "source": [
    "a = {1,2,3,4,5,6,78,3,2,3,4,3,2,1,82,82,3,3,4}\n",
    "print(a)\n",
    "\n"
   ]
  },
  {
   "cell_type": "code",
   "execution_count": 96,
   "id": "a13908aa",
   "metadata": {},
   "outputs": [
    {
     "data": {
      "text/plain": [
       "['__and__',\n",
       " '__class__',\n",
       " '__class_getitem__',\n",
       " '__contains__',\n",
       " '__delattr__',\n",
       " '__dir__',\n",
       " '__doc__',\n",
       " '__eq__',\n",
       " '__format__',\n",
       " '__ge__',\n",
       " '__getattribute__',\n",
       " '__getstate__',\n",
       " '__gt__',\n",
       " '__hash__',\n",
       " '__iand__',\n",
       " '__init__',\n",
       " '__init_subclass__',\n",
       " '__ior__',\n",
       " '__isub__',\n",
       " '__iter__',\n",
       " '__ixor__',\n",
       " '__le__',\n",
       " '__len__',\n",
       " '__lt__',\n",
       " '__ne__',\n",
       " '__new__',\n",
       " '__or__',\n",
       " '__rand__',\n",
       " '__reduce__',\n",
       " '__reduce_ex__',\n",
       " '__repr__',\n",
       " '__ror__',\n",
       " '__rsub__',\n",
       " '__rxor__',\n",
       " '__setattr__',\n",
       " '__sizeof__',\n",
       " '__str__',\n",
       " '__sub__',\n",
       " '__subclasshook__',\n",
       " '__xor__',\n",
       " 'add',\n",
       " 'clear',\n",
       " 'copy',\n",
       " 'difference',\n",
       " 'difference_update',\n",
       " 'discard',\n",
       " 'intersection',\n",
       " 'intersection_update',\n",
       " 'isdisjoint',\n",
       " 'issubset',\n",
       " 'issuperset',\n",
       " 'pop',\n",
       " 'remove',\n",
       " 'symmetric_difference',\n",
       " 'symmetric_difference_update',\n",
       " 'union',\n",
       " 'update']"
      ]
     },
     "execution_count": 96,
     "metadata": {},
     "output_type": "execute_result"
    }
   ],
   "source": [
    "dir(set)"
   ]
  },
  {
   "cell_type": "code",
   "execution_count": 97,
   "id": "06d7190b",
   "metadata": {},
   "outputs": [
    {
     "name": "stdout",
     "output_type": "stream",
     "text": [
      "{1, 2, 3, 4, 5, 6, 10, 78, 82}\n"
     ]
    }
   ],
   "source": [
    "a =  {1,2,3,4,5,6,78,3,2,3,4,3,2,1,82,82,3,3,4}\n",
    "\n",
    "a.add(10)\n",
    "print(a)"
   ]
  },
  {
   "cell_type": "code",
   "execution_count": 104,
   "id": "393cabec",
   "metadata": {},
   "outputs": [
    {
     "name": "stdout",
     "output_type": "stream",
     "text": [
      "{1, 2, 3}\n",
      "None\n",
      "{1, 2, 3, 4, 5, 6}\n",
      "{3, 4, 5, 6}\n",
      "{1, 2, 8, 9, 10}\n",
      "{1, 2, 3, 4, 5, 6, 8, 9, 10}\n",
      "{1, 2}\n"
     ]
    }
   ],
   "source": [
    "a={1,2,3,4,5,6}\n",
    "b= {1,2,7,8,9,10}\n",
    "c={1,2,3}\n",
    "\n",
    "print(c)\n",
    "c=c.clear()\n",
    "print(c)\n",
    "\n",
    "c= a.copy()\n",
    "print(c)\n",
    "\n",
    "print(a.difference(b))\n",
    "\n",
    "b.discard(7)\n",
    "print(b)\n",
    "\n",
    "print(a.union(b))\n",
    "\n",
    "print(a.intersection(b))\n"
   ]
  },
  {
   "cell_type": "markdown",
   "id": "0e40ca01",
   "metadata": {},
   "source": [
    "# dictionary"
   ]
  },
  {
   "cell_type": "code",
   "execution_count": null,
   "id": "63581093",
   "metadata": {},
   "outputs": [],
   "source": [
    "->it is a c\n",
    "->item seperated by ,\n",
    "->each pair called item\n",
    "->it contain unique keys\n",
    "->enclosed in {}\n",
    "->key and value sepearted by :"
   ]
  },
  {
   "cell_type": "code",
   "execution_count": 105,
   "id": "20782b33",
   "metadata": {},
   "outputs": [
    {
     "data": {
      "text/plain": [
       "dict"
      ]
     },
     "execution_count": 105,
     "metadata": {},
     "output_type": "execute_result"
    }
   ],
   "source": [
    "a = { 1:\"Hemant\",2:\"Priya\",3:\"Rohit\"}\n",
    "\n",
    "type(a)"
   ]
  },
  {
   "cell_type": "code",
   "execution_count": 106,
   "id": "964cb227",
   "metadata": {},
   "outputs": [
    {
     "name": "stdout",
     "output_type": "stream",
     "text": [
      "{1: 'Prateek', 2: 'Priya', 3: 'Rohit'}\n"
     ]
    },
    {
     "data": {
      "text/plain": [
       "dict"
      ]
     },
     "execution_count": 106,
     "metadata": {},
     "output_type": "execute_result"
    }
   ],
   "source": [
    "a = { 1:\"Hemant\",2:\"Priya\",3:\"Rohit\",1:\"Prateek\"}\n",
    "print(a)\n",
    "type(a)"
   ]
  },
  {
   "cell_type": "code",
   "execution_count": null,
   "id": "6cd2261e",
   "metadata": {},
   "outputs": [],
   "source": [
    "dir(dict)"
   ]
  },
  {
   "cell_type": "code",
   "execution_count": null,
   "id": "4895e205",
   "metadata": {},
   "outputs": [],
   "source": [
    "print(a.clear())"
   ]
  },
  {
   "cell_type": "code",
   "execution_count": null,
   "id": "9fed91cf",
   "metadata": {},
   "outputs": [],
   "source": [
    "a = { 1:\"Hemant\",2:\"Priya\",3:\"Rohit\"}"
   ]
  },
  {
   "cell_type": "code",
   "execution_count": null,
   "id": "fd531abe",
   "metadata": {},
   "outputs": [],
   "source": [
    "b = a.copy()\n",
    "print(b)"
   ]
  },
  {
   "cell_type": "code",
   "execution_count": 107,
   "id": "b3c79673",
   "metadata": {},
   "outputs": [
    {
     "data": {
      "text/plain": [
       "dict_items([(1, 'Prateek'), (2, 'Priya'), (3, 'Rohit')])"
      ]
     },
     "execution_count": 107,
     "metadata": {},
     "output_type": "execute_result"
    }
   ],
   "source": [
    "a.items()\n"
   ]
  },
  {
   "cell_type": "code",
   "execution_count": 108,
   "id": "06aa07e2",
   "metadata": {},
   "outputs": [
    {
     "data": {
      "text/plain": [
       "dict_values(['Prateek', 'Priya', 'Rohit'])"
      ]
     },
     "execution_count": 108,
     "metadata": {},
     "output_type": "execute_result"
    }
   ],
   "source": [
    "a.values()"
   ]
  },
  {
   "cell_type": "code",
   "execution_count": 109,
   "id": "9d50c4e7",
   "metadata": {},
   "outputs": [
    {
     "data": {
      "text/plain": [
       "dict_keys([1, 2, 3])"
      ]
     },
     "execution_count": 109,
     "metadata": {},
     "output_type": "execute_result"
    }
   ],
   "source": [
    "a.keys()"
   ]
  },
  {
   "cell_type": "code",
   "execution_count": 110,
   "id": "9742dfdd",
   "metadata": {},
   "outputs": [
    {
     "data": {
      "text/plain": [
       "{1: 'Hemant', 3: 'Rohit'}"
      ]
     },
     "execution_count": 110,
     "metadata": {},
     "output_type": "execute_result"
    }
   ],
   "source": [
    "a = { 1:\"Hemant\",2:\"Priya\",3:\"Rohit\"}\n",
    "a.pop(2)\n",
    "a"
   ]
  },
  {
   "cell_type": "markdown",
   "id": "24fc8255",
   "metadata": {},
   "source": [
    "# Questions"
   ]
  },
  {
   "cell_type": "code",
   "execution_count": null,
   "id": "c608a7d0",
   "metadata": {},
   "outputs": [],
   "source": [
    "1 wap to find given number is odd or even\n",
    "\n",
    "2 wap to find number is positive\n",
    "\n",
    "3 wap to find palindrome number\n",
    "\n",
    "4 wap to reverse using slicing\n",
    "a= \"this is my python class\"\n",
    "\n",
    "5 wap to reverse using for loop \n",
    "a= \"this is my python class\"\n",
    "\n",
    "6 wap to find leap year or not\n",
    "7 wap to print the word which contain's 'o' in the list"
   ]
  },
  {
   "cell_type": "code",
   "execution_count": null,
   "id": "62c79e96",
   "metadata": {},
   "outputs": [],
   "source": [
    "a = 4\n",
    "\n",
    "if(a%2==0):\n",
    "    print(\"number is even\")\n",
    "else:\n",
    "    print(\"number is odd\")"
   ]
  },
  {
   "cell_type": "code",
   "execution_count": null,
   "id": "32e3d190",
   "metadata": {},
   "outputs": [],
   "source": [
    "a = -55\n",
    "\n",
    "if(a>=0):\n",
    "    print(\"number is positive\")\n",
    "else:\n",
    "    print(\"number is negative\")"
   ]
  },
  {
   "cell_type": "code",
   "execution_count": null,
   "id": "260144e5",
   "metadata": {},
   "outputs": [],
   "source": [
    "a = 13431\n",
    "b = str(a)\n",
    "rev = b[::-1]\n",
    "\n",
    "print(a)\n",
    "print(rev)\n",
    "\n",
    "if(b == rev):\n",
    "    print(\"number is palindrome\")\n",
    "else:\n",
    "    print(\"number is not palindrome\")"
   ]
  },
  {
   "cell_type": "code",
   "execution_count": null,
   "id": "09e843cd",
   "metadata": {},
   "outputs": [],
   "source": [
    "a = \"this is my python class\"\n",
    "b = a[::-1]\n",
    "print(b)"
   ]
  },
  {
   "cell_type": "code",
   "execution_count": null,
   "id": "a731d48a",
   "metadata": {},
   "outputs": [],
   "source": [
    "a = \"this is my python class\"\n",
    "b = \"\"\n",
    "\n",
    "for i in a:\n",
    "    b = i+b\n",
    "    \n",
    "print(b)"
   ]
  },
  {
   "cell_type": "code",
   "execution_count": null,
   "id": "10d85963",
   "metadata": {},
   "outputs": [],
   "source": [
    "a = 1900\n",
    "\n",
    "if(a%4==0):\n",
    "    print(\"leap year\")\n",
    "else:\n",
    "    print(\"not leap year\")"
   ]
  },
  {
   "cell_type": "code",
   "execution_count": null,
   "id": "fc337f3b",
   "metadata": {},
   "outputs": [],
   "source": [
    "a = [\"apple\",\"orange\",\"mangoes\"]\n",
    "\n",
    "for i in a:\n",
    "    i = str(i)\n",
    "    if(i.find(\"o\")):\n",
    "        print(i)\n",
    "    else:\n",
    "        print(\"error\")"
   ]
  },
  {
   "cell_type": "code",
   "execution_count": null,
   "id": "85301ad9",
   "metadata": {},
   "outputs": [],
   "source": []
  },
  {
   "cell_type": "code",
   "execution_count": null,
   "id": "ced5c2dc",
   "metadata": {},
   "outputs": [],
   "source": []
  }
 ],
 "metadata": {
  "kernelspec": {
   "display_name": "Python 3 (ipykernel)",
   "language": "python",
   "name": "python3"
  },
  "language_info": {
   "codemirror_mode": {
    "name": "ipython",
    "version": 3
   },
   "file_extension": ".py",
   "mimetype": "text/x-python",
   "name": "python",
   "nbconvert_exporter": "python",
   "pygments_lexer": "ipython3",
   "version": "3.11.4"
  }
 },
 "nbformat": 4,
 "nbformat_minor": 5
}
