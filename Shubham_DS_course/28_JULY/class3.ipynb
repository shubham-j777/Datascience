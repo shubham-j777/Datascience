{
 "cells": [
  {
   "cell_type": "markdown",
   "id": "4ef51d0c",
   "metadata": {},
   "source": [
    "# OOP - Object Oriented Programing"
   ]
  },
  {
   "cell_type": "code",
   "execution_count": null,
   "id": "366e415e",
   "metadata": {},
   "outputs": [],
   "source": []
  },
  {
   "cell_type": "markdown",
   "id": "3131e6fd",
   "metadata": {},
   "source": [
    "# Question"
   ]
  },
  {
   "cell_type": "code",
   "execution_count": null,
   "id": "933e0423",
   "metadata": {},
   "outputs": [],
   "source": [
    "#Q1) create a class name bikes in which you have to make 2 functions and pass the class members as \n",
    "#  bike name,bike year of manufacturing/model no,price for 5 bikes and print 5 bike name year/model,price"
   ]
  },
  {
   "cell_type": "code",
   "execution_count": 17,
   "id": "09794549",
   "metadata": {},
   "outputs": [
    {
     "name": "stdout",
     "output_type": "stream",
     "text": [
      "tvs raider 125 91,000\n",
      "royal enfield hunter 350 1,49,900\n",
      "harley davidson X440 2,29,000\n",
      "honda sp 125 86,000\n",
      "Apache RTR 160 1,19,000\n"
     ]
    }
   ],
   "source": [
    "class bikes:\n",
    "    def __init__(self,name,model,price):\n",
    "        self.name = name\n",
    "        self.model = model \n",
    "        self.price = price\n",
    "    def display(self):\n",
    "        print(self.name,self.model,self.price)   \n",
    "a1 = bikes(\"tvs raider\",\"125\",\"91,000\")\n",
    "a1.display()\n",
    "a2 = bikes(\"royal enfield hunter\",\"350\",\"1,49,900\")\n",
    "a2.display()\n",
    "a3 = bikes(\"harley davidson\",\"X440\",\"2,29,000\")\n",
    "a3.display()\n",
    "a4 = bikes(\"honda sp\",\"125\",\"86,000\")\n",
    "a4.display()\n",
    "a5 = bikes(\"Apache RTR\",\"160\",\"1,19,000\")\n",
    "a5.display()"
   ]
  },
  {
   "cell_type": "code",
   "execution_count": null,
   "id": "4ff28071",
   "metadata": {},
   "outputs": [],
   "source": [
    "#wap to display the marks of maths of five students with their names using oops concepts"
   ]
  },
  {
   "cell_type": "code",
   "execution_count": 21,
   "id": "85b26dbc",
   "metadata": {},
   "outputs": [
    {
     "name": "stdout",
     "output_type": "stream",
     "text": [
      "95\n"
     ]
    }
   ],
   "source": [
    "class student:\n",
    "    def __init__ (self,marks):\n",
    "        self.marks = marks\n",
    "    def display(self):\n",
    "        print(self.marks)\n",
    "\n",
    "s1 = student(\"80\")\n",
    "s2 = student(\"70\")\n",
    "s3 = student(\"85\")\n",
    "s4 = student(\"95\")\n",
    "s5 = student(\"88\")\n",
    "print(max(s1.marks,s2.marks,s3.marks,s4.marks,s5.marks))"
   ]
  },
  {
   "cell_type": "markdown",
   "id": "bdadbc6e",
   "metadata": {},
   "source": [
    "# Question"
   ]
  },
  {
   "cell_type": "code",
   "execution_count": null,
   "id": "bbfe76e8",
   "metadata": {},
   "outputs": [],
   "source": [
    "#Q1 wap to display the name and city of three student using single level inheritance."
   ]
  },
  {
   "cell_type": "code",
   "execution_count": 24,
   "id": "8d9b8dcc",
   "metadata": {},
   "outputs": [
    {
     "name": "stdout",
     "output_type": "stream",
     "text": [
      "ajay delhi\n"
     ]
    }
   ],
   "source": [
    "class student:\n",
    "    def __init__(self,stu_name,stu_city):\n",
    "        self.stu_name = stu_name\n",
    "        self.stu_city = stu_city\n",
    "class show(student):\n",
    "    def display(self):\n",
    "        print(self.stu_name,self.stu_city)\n",
    "\n",
    "s1 = show(\"ajay\",\"delhi\")\n",
    "s1.display()\n",
    "s1 = show(\"Raj\",\"kolkata\")\n",
    "s1.display()\n",
    "s1 = show(\"aman\",\"delhi\")\n",
    "s1.display()"
   ]
  },
  {
   "cell_type": "markdown",
   "id": "e46b13cf",
   "metadata": {},
   "source": [
    "# Multi level"
   ]
  },
  {
   "cell_type": "code",
   "execution_count": 8,
   "id": "f56c13d7",
   "metadata": {},
   "outputs": [
    {
     "name": "stdout",
     "output_type": "stream",
     "text": [
      "rohan 40 Banker\n"
     ]
    }
   ],
   "source": [
    "class Parent:\n",
    "    def __init__(self):\n",
    "        self.name = \"rohan\"\n",
    "class child(Parent):\n",
    "    def __init__(self):\n",
    "        Parent.__init__(self)\n",
    "        self.age = 40\n",
    "class child2(child):\n",
    "    def __init__(self):\n",
    "        child.__init__(self)\n",
    "        self.prof = \"Banker\"\n",
    "    def display(self):\n",
    "        print(self.name,self.age,self.prof)\n",
    "obj1 = child2()\n",
    "obj1.display()"
   ]
  },
  {
   "cell_type": "code",
   "execution_count": null,
   "id": "d2deeb49",
   "metadata": {},
   "outputs": [],
   "source": [
    "#wap using multi level inheritance for 3 product detail\n",
    "#product name\n",
    "#product weight\n",
    "#product price\n",
    "#product quantity\n"
   ]
  },
  {
   "cell_type": "code",
   "execution_count": 55,
   "id": "0e745306",
   "metadata": {},
   "outputs": [
    {
     "name": "stdout",
     "output_type": "stream",
     "text": [
      "milk 1 kg 100 45\n",
      "bread 3 kg 300 35\n",
      "eggs 5 kg 900 50\n"
     ]
    }
   ],
   "source": [
    "class p_name:\n",
    "    def __init__(self):\n",
    "        self.p_name = \"\"\n",
    "        \n",
    "class p_weight(p_name):\n",
    "    def __init__(self):\n",
    "        p_name.__init__(self)\n",
    "        self.p_weight = \"\"\n",
    "        -\n",
    "class p_price(p_weight):\n",
    "    def __init__(self):\n",
    "        p_weight.__init__(self)\n",
    "        self.p_price = \"\"\n",
    "        \n",
    "class p_quantity(p_price):\n",
    "    def __init__(self):\n",
    "        p_price.__init__(self)\n",
    "        self.p_quant = \"\"\n",
    "        \n",
    "    def val(self,name,weight,price,quant):\n",
    "        self.p_name = name\n",
    "        self.p_weight = weight\n",
    "        self.p_price = price\n",
    "        self.p_quant = quant\n",
    "        \n",
    "    def display(self):\n",
    "        print(self.p_name,self.p_weight,self.p_price,self.p_quant)\n",
    "        \n",
    "p1 = p_quantity()\n",
    "p1.val(\"milk\",\"1 kg\",\"100\",\"45\")\n",
    "p1.display()\n",
    "p1 = p_quantity()\n",
    "p1.val(\"bread\",\"3 kg\",\"300\",\"35\")\n",
    "p1.display()\n",
    "p1 = p_quantity()\n",
    "p1.val(\"eggs\",\"5 kg\",\"900\",\"50\")\n",
    "p1.display()"
   ]
  },
  {
   "cell_type": "markdown",
   "id": "0d044c13",
   "metadata": {},
   "source": [
    "# Multiple inheritance"
   ]
  },
  {
   "cell_type": "code",
   "execution_count": 11,
   "id": "1438d563",
   "metadata": {},
   "outputs": [
    {
     "name": "stdout",
     "output_type": "stream",
     "text": [
      "Aman 40 IT\n"
     ]
    }
   ],
   "source": [
    "class parent1:\n",
    "    def __init__(self):\n",
    "        self.name = \"Aman\"\n",
    "class parent2:\n",
    "    def __init__(self):\n",
    "        self.age = 40\n",
    "class child(parent1,parent2):\n",
    "    def __init__(self):\n",
    "        parent1.__init__(self)\n",
    "        parent2.__init__(self)\n",
    "        self.prof = \"IT\"\n",
    "    def display(self):\n",
    "        print(self.name,self.age,self.prof)\n",
    "        \n",
    "obj1 = child()\n",
    "obj1.display()"
   ]
  },
  {
   "cell_type": "code",
   "execution_count": 4,
   "id": "32bb24e5",
   "metadata": {},
   "outputs": [],
   "source": [
    "# wap using multiple inheritance in which you have to print \n",
    "#patient name\n",
    "#patient age\n",
    "#patient disease\n",
    "#patient fees"
   ]
  },
  {
   "cell_type": "code",
   "execution_count": 73,
   "id": "34b93f61",
   "metadata": {},
   "outputs": [
    {
     "name": "stdout",
     "output_type": "stream",
     "text": [
      "aman 19 fever 3000\n"
     ]
    }
   ],
   "source": [
    "class p_name:\n",
    "    def __init__(self):\n",
    "        self.p_name = \" \"\n",
    "        \n",
    "class p_age:\n",
    "    def __init__(self):\n",
    "        p_name.__init__(self)\n",
    "        \n",
    "class p_disease:\n",
    "    def __init__(self):\n",
    "        p_age.__init__(self)\n",
    "        \n",
    "class p_fees:\n",
    "    def __init__(self):\n",
    "        p_disease.__init__(self)\n",
    "\n",
    "class patient(p_name,p_age,p_disease,p_fees):\n",
    "    def __init__(self):\n",
    "        self.p_name = \"\"\n",
    "        self.p_age = \"\"\n",
    "        self.p_disease = \"\"\n",
    "        self.p_fees = \"\"\n",
    "        \n",
    "    def val(self,name,age,disease,fees):\n",
    "        self.p_name = name\n",
    "        self.p_age = age\n",
    "        self.p_disease = disease\n",
    "        self.p_fees = fees\n",
    "        \n",
    "    def display(self):\n",
    "        print(self.p_name,self.p_age,self.p_disease,self.p_fees)\n",
    "        \n",
    "p1 = patient()\n",
    "p1.val(\"aman\",\"19\",\"fever\",\"3000\")\n",
    "p1.display()"
   ]
  },
  {
   "cell_type": "markdown",
   "id": "69e1f20b",
   "metadata": {},
   "source": [
    "# Hierarchial inheritance"
   ]
  },
  {
   "cell_type": "code",
   "execution_count": 68,
   "id": "651f6e87",
   "metadata": {},
   "outputs": [
    {
     "name": "stdout",
     "output_type": "stream",
     "text": [
      "john 25 IT london\n",
      "john 25 IT UK\n"
     ]
    }
   ],
   "source": [
    "class parent:\n",
    "    def __init__(self):\n",
    "        self.name = \"john\"\n",
    "        self.age = 25\n",
    "        self.prof = \"IT\"\n",
    "class child1(parent):\n",
    "    def __init__(self):\n",
    "        self.city = \"london\"\n",
    "        parent.__init__(self)\n",
    "    def display(self):\n",
    "        print(self.name,self.age,self.prof,self.city)\n",
    "class child2(parent):\n",
    "    def __init__(self):\n",
    "        self.country = \"UK\"\n",
    "        parent.__init__(self)\n",
    "        \n",
    "    def display(self):\n",
    "        print(self.name,self.age,self.prof,self.country)\n",
    "c1 = child1()\n",
    "c2 = child2()\n",
    "c1.display()\n",
    "c2.display()"
   ]
  },
  {
   "cell_type": "code",
   "execution_count": null,
   "id": "e820a793",
   "metadata": {},
   "outputs": [],
   "source": [
    "# wap using hierarchial inheritance and display\n",
    "# parent class - company name,company location,countof employees in the company,\n",
    "#your name \n",
    "#your designation"
   ]
  },
  {
   "cell_type": "code",
   "execution_count": 9,
   "id": "44ad5e4c",
   "metadata": {},
   "outputs": [
    {
     "name": "stdout",
     "output_type": "stream",
     "text": [
      "goole UK 800 sj\n",
      "goole UK 800 employee\n"
     ]
    }
   ],
   "source": [
    "class company_name:\n",
    "    def __init__(self):\n",
    "        self.c_name = \"goole\"\n",
    "    \n",
    "class company_location:\n",
    "    def __init__(self):\n",
    "        self.c_loc = \"UK\"\n",
    "\n",
    "class count_of_employees:\n",
    "    def __init__(self):\n",
    "        self.c_totalemp = 800\n",
    "\n",
    "    def display(self):\n",
    "        print(self.c_name,self.c_loc,self.c_totalemp)\n",
    "        \n",
    "class name(company_name,company_location,count_of_employees):\n",
    "    def __init__(self):\n",
    "        company_name.__init__(self)\n",
    "        company_location.__init__(self)\n",
    "        count_of_employees.__init__(self)\n",
    "        self.your_name = \"sj\"\n",
    "        \n",
    "    def display(self):\n",
    "        print(self.c_name,self.c_loc,self.c_totalemp,self.your_name)\n",
    "        \n",
    "class designation(company_name,company_location,count_of_employees):\n",
    "    def __init__(self):\n",
    "        company_name.__init__(self)\n",
    "        company_location.__init__(self)\n",
    "        count_of_employees.__init__(self)\n",
    "        self.your_designation = \"employee\"      \n",
    "\n",
    "    def display(self):\n",
    "        print(self.c_name,self.c_loc,self.c_totalemp,self.your_designation)\n",
    "\n",
    "obj1 = name()\n",
    "obj1.display()\n",
    "obj2 = designation()\n",
    "obj2.display()"
   ]
  },
  {
   "cell_type": "markdown",
   "id": "647d0bb6",
   "metadata": {},
   "source": [
    "# Module"
   ]
  },
  {
   "cell_type": "code",
   "execution_count": 2,
   "id": "ee9944f3",
   "metadata": {},
   "outputs": [
    {
     "data": {
      "text/plain": [
       "16"
      ]
     },
     "execution_count": 2,
     "metadata": {},
     "output_type": "execute_result"
    }
   ],
   "source": [
    "from Module import add\n",
    "add(6,10)"
   ]
  },
  {
   "cell_type": "code",
   "execution_count": 3,
   "id": "3ad2aae8",
   "metadata": {},
   "outputs": [
    {
     "data": {
      "text/plain": [
       "4"
      ]
     },
     "execution_count": 3,
     "metadata": {},
     "output_type": "execute_result"
    }
   ],
   "source": [
    "import Module as m \n",
    "m.floor_div(8,2)"
   ]
  },
  {
   "cell_type": "code",
   "execution_count": 4,
   "id": "8e5e1634",
   "metadata": {},
   "outputs": [
    {
     "name": "stdout",
     "output_type": "stream",
     "text": [
      "1\n",
      "0\n",
      "4.0\n"
     ]
    }
   ],
   "source": [
    "from Module import sub,mult,div\n",
    "\n",
    "print(sub(3,2))\n",
    "print(mult(5,0))\n",
    "print(div(8,2))"
   ]
  },
  {
   "cell_type": "code",
   "execution_count": null,
   "id": "b730102e",
   "metadata": {},
   "outputs": [],
   "source": [
    "# Q13) create a list of the first 50 even natural numbers and perform the folllowing\n",
    "#a) count the number of elements in a list\n",
    "#b) reverse the sequence of list\n",
    "#c) sort the list in ascending and descending order \n",
    "#d) get the index value for the element 44 \n",
    "#e) update the element with the number 100"
   ]
  },
  {
   "cell_type": "code",
   "execution_count": 73,
   "id": "25678b3f",
   "metadata": {},
   "outputs": [
    {
     "name": "stdout",
     "output_type": "stream",
     "text": [
      "Length of list is -> 50\n",
      "\n",
      "reversed list is -> [100, 98, 96, 94, 92, 90, 88, 86, 84, 82, 80, 78, 76, 74, 72, 70, 68, 66, 64, 62, 60, 58, 56, 54, 52, 50, 48, 46, 44, 42, 40, 38, 36, 34, 32, 30, 28, 26, 24, 22, 20, 18, 16, 14, 12, 10, 8, 6, 4, 2]\n",
      "\n",
      "ascending sorted list is -> [2, 4, 6, 8, 10, 12, 14, 16, 18, 20, 22, 24, 26, 28, 30, 32, 34, 36, 38, 40, 42, 44, 46, 48, 50, 52, 54, 56, 58, 60, 62, 64, 66, 68, 70, 72, 74, 76, 78, 80, 82, 84, 86, 88, 90, 92, 94, 96, 98, 100]\n",
      "\n",
      "Descending sorted list is -> [100, 98, 96, 94, 92, 90, 88, 86, 84, 82, 80, 78, 76, 74, 72, 70, 68, 66, 64, 62, 60, 58, 56, 54, 52, 50, 48, 46, 44, 42, 40, 38, 36, 34, 32, 30, 28, 26, 24, 22, 20, 18, 16, 14, 12, 10, 8, 6, 4, 2]\n",
      "\n",
      "Index of element 44 is -> 28\n",
      "\n",
      "List after updating element 100 with 999 ->  [2, 4, 6, 8, 10, 12, 14, 16, 18, 20, 22, 24, 26, 28, 30, 32, 34, 36, 38, 40, 42, 44, 46, 48, 50, 52, 54, 56, 58, 60, 62, 64, 66, 68, 70, 72, 74, 76, 78, 80, 82, 84, 86, 88, 90, 92, 94, 96, 98, 999]\n",
      "\n"
     ]
    }
   ],
   "source": [
    "l1 = []\n",
    "for i in range(2,101,2):\n",
    "    l1 += [i]\n",
    "    \n",
    "#length\n",
    "print(\"Length of list is ->\" ,len(l1))\n",
    "print()\n",
    "\n",
    "#reverse\n",
    "l1.reverse()\n",
    "print(\"reversed list is ->\" ,l1)\n",
    "print()\n",
    "\n",
    "\n",
    "#sort ascending\n",
    "l1.sort()\n",
    "print(\"ascending sorted list is ->\" ,l1)\n",
    "print()\n",
    "\n",
    "#sort descending\n",
    "l1.sort(reverse = True)\n",
    "print(\"Descending sorted list is ->\" ,l1)\n",
    "print()\n",
    "\n",
    "#index of 44\n",
    "print(\"Index of element 44 is ->\",l1.index(44))\n",
    "print()\n",
    "\n",
    "\n",
    "# update element number 100\n",
    "l1.sort()\n",
    "index = l1.index(100)\n",
    "l1[index] = 999\n",
    "print(\"List after updating element 100 with 999 -> \",l1)\n",
    "print()\n"
   ]
  },
  {
   "cell_type": "code",
   "execution_count": null,
   "id": "405cd017",
   "metadata": {},
   "outputs": [],
   "source": [
    "#for the given string \n",
    "#a = \"Python Programming Language\"\n",
    "#b = \"Best in the World\"\n",
    "\n",
    "#perform the following operations\n",
    "#a) using indexing get the text \"gram\" from string a\n",
    "#b) using indexing get the text \"World\" from string b\n",
    "#c)change the letter in both sting to uppercase\n",
    "#d)concatenate the two string\n"
   ]
  },
  {
   "cell_type": "code",
   "execution_count": 47,
   "id": "ae4fca6f",
   "metadata": {},
   "outputs": [
    {
     "name": "stdout",
     "output_type": "stream",
     "text": [
      "gram\n",
      "World\n",
      "PYTHON PROGRAMMING LANGUAGE\n",
      "BEST IN THE WORLD\n",
      "Python Programming LanguageBest in the World\n"
     ]
    }
   ],
   "source": [
    "a = \"Python Programming Language\"\n",
    "b = \"Best in the World\"\n",
    "\n",
    "txt1 = \"gram\"\n",
    "txt2 = \"World\"\n",
    "index1 = a.index(\"gram\")\n",
    "index2 = b.index(\"World\")\n",
    "\n",
    "print( a[index1:(index1+len(txt1)):1] )\n",
    "\n",
    "print( b[index2:(index2+len(txt2)):1] )\n",
    "\n",
    "print(a.upper())\n",
    "print(b.upper())\n",
    "\n",
    "print(a+b)"
   ]
  },
  {
   "cell_type": "code",
   "execution_count": null,
   "id": "a6aa74b3",
   "metadata": {},
   "outputs": [],
   "source": [
    "#problem statement\n",
    "\n",
    "#you work in a XYZ corporation as a Data Analyst.Your corporation has told you to work on fuction and classes\n",
    "#create function named \"factor\" that can only accept one argument\n",
    "#the function should return the factorial of that number\n"
   ]
  },
  {
   "cell_type": "code",
   "execution_count": 41,
   "id": "45100e86",
   "metadata": {},
   "outputs": [
    {
     "data": {
      "text/plain": [
       "24"
      ]
     },
     "execution_count": 41,
     "metadata": {},
     "output_type": "execute_result"
    }
   ],
   "source": [
    "def factor(a):\n",
    "    fact = 1\n",
    "    for i in range(1,a):\n",
    "        fact += fact * i\n",
    "    return fact\n",
    "factor(4)"
   ]
  },
  {
   "cell_type": "markdown",
   "id": "112c29de",
   "metadata": {},
   "source": [
    "# Abstraction"
   ]
  },
  {
   "cell_type": "code",
   "execution_count": null,
   "id": "3c65c600",
   "metadata": {},
   "outputs": [],
   "source": []
  },
  {
   "cell_type": "code",
   "execution_count": null,
   "id": "5da7ef1e",
   "metadata": {},
   "outputs": [],
   "source": []
  },
  {
   "cell_type": "code",
   "execution_count": null,
   "id": "79a52345",
   "metadata": {},
   "outputs": [],
   "source": []
  }
 ],
 "metadata": {
  "kernelspec": {
   "display_name": "Python 3 (ipykernel)",
   "language": "python",
   "name": "python3"
  },
  "language_info": {
   "codemirror_mode": {
    "name": "ipython",
    "version": 3
   },
   "file_extension": ".py",
   "mimetype": "text/x-python",
   "name": "python",
   "nbconvert_exporter": "python",
   "pygments_lexer": "ipython3",
   "version": "3.11.4"
  }
 },
 "nbformat": 4,
 "nbformat_minor": 5
}
