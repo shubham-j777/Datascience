{
 "cells": [
  {
   "cell_type": "markdown",
   "id": "81a8deca",
   "metadata": {},
   "source": [
    "# If Else Elif"
   ]
  },
  {
   "cell_type": "code",
   "execution_count": 2,
   "id": "881d3026",
   "metadata": {},
   "outputs": [
    {
     "name": "stdout",
     "output_type": "stream",
     "text": [
      "A\n"
     ]
    }
   ],
   "source": [
    "a,b = 20,10\n",
    "if a>b:\n",
    "    print('A')\n",
    "else:\n",
    "    print('B')"
   ]
  },
  {
   "cell_type": "code",
   "execution_count": 3,
   "id": "ea971be2",
   "metadata": {},
   "outputs": [
    {
     "name": "stdout",
     "output_type": "stream",
     "text": [
      "A\n"
     ]
    }
   ],
   "source": [
    "a,b = 20,10\n",
    "print('A') if a>b else print('B')"
   ]
  },
  {
   "cell_type": "markdown",
   "id": "53f90908",
   "metadata": {},
   "source": [
    "# Last class answers"
   ]
  },
  {
   "cell_type": "code",
   "execution_count": null,
   "id": "9044b9d2",
   "metadata": {},
   "outputs": [],
   "source": []
  },
  {
   "cell_type": "markdown",
   "id": "6405b65a",
   "metadata": {},
   "source": [
    "# Question"
   ]
  },
  {
   "cell_type": "code",
   "execution_count": null,
   "id": "2497fe63",
   "metadata": {},
   "outputs": [],
   "source": [
    "5 wap to reverse using\n",
    "a= \"this is my python class\"\n",
    "to -> sith si ym nohtyp ssalc"
   ]
  },
  {
   "cell_type": "code",
   "execution_count": 5,
   "id": "36952fc6",
   "metadata": {},
   "outputs": [
    {
     "name": "stdout",
     "output_type": "stream",
     "text": [
      "p\n",
      "y\n",
      "t\n",
      "h\n",
      "o\n",
      "n\n"
     ]
    }
   ],
   "source": [
    "a = \"python\"\n",
    "for i in a:\n",
    "    print(i)"
   ]
  },
  {
   "cell_type": "code",
   "execution_count": 6,
   "id": "3a26afb4",
   "metadata": {},
   "outputs": [
    {
     "name": "stdout",
     "output_type": "stream",
     "text": [
      "p\n",
      "y\n",
      "t\n",
      "h\n",
      "o\n",
      "n\n"
     ]
    }
   ],
   "source": [
    "a= 'python'\n",
    "for i in range(0,len(a)):\n",
    "    print(a[i])"
   ]
  },
  {
   "cell_type": "code",
   "execution_count": 8,
   "id": "7a67fdd1",
   "metadata": {},
   "outputs": [
    {
     "ename": "SyntaxError",
     "evalue": "'break' outside loop (2747560767.py, line 1)",
     "output_type": "error",
     "traceback": [
      "\u001b[1;36m  Cell \u001b[1;32mIn[8], line 1\u001b[1;36m\u001b[0m\n\u001b[1;33m    break\u001b[0m\n\u001b[1;37m    ^\u001b[0m\n\u001b[1;31mSyntaxError\u001b[0m\u001b[1;31m:\u001b[0m 'break' outside loop\n"
     ]
    }
   ],
   "source": [
    "break\n",
    "pass\n",
    "continue"
   ]
  },
  {
   "cell_type": "code",
   "execution_count": 11,
   "id": "a3c7c74e",
   "metadata": {},
   "outputs": [
    {
     "name": "stdout",
     "output_type": "stream",
     "text": [
      "1\n",
      "2\n",
      "3\n",
      "4\n",
      "5\n",
      "6\n"
     ]
    }
   ],
   "source": [
    "a = [1,2,3,4,5,6,7,8,9,10]\n",
    "for i in a:\n",
    "    print(i)\n",
    "    if i >= 6:\n",
    "        break"
   ]
  },
  {
   "cell_type": "code",
   "execution_count": 13,
   "id": "d365043d",
   "metadata": {},
   "outputs": [
    {
     "name": "stdout",
     "output_type": "stream",
     "text": [
      "1\n",
      "2\n",
      "3\n",
      "4\n",
      "5\n",
      "7\n",
      "8\n",
      "9\n",
      "10\n"
     ]
    }
   ],
   "source": [
    "a = [1,2,3,4,5,6,7,8,9,10]\n",
    "for i in a:\n",
    "    if i==6:\n",
    "        continue\n",
    "    print(i)"
   ]
  },
  {
   "cell_type": "code",
   "execution_count": 8,
   "id": "19a590cc",
   "metadata": {},
   "outputs": [
    {
     "name": "stdout",
     "output_type": "stream",
     "text": [
      "1\n",
      "2\n",
      "3\n",
      "4\n",
      "5\n",
      "6\n",
      "7\n",
      "8\n",
      "9\n",
      "10\n"
     ]
    }
   ],
   "source": [
    "a = [1,2,3,4,5,6,7,8,9,10]\n",
    "for i in a:\n",
    "    if i==6:\n",
    "        pass #skips condition\n",
    "    print(i)"
   ]
  },
  {
   "cell_type": "markdown",
   "id": "578d78d0",
   "metadata": {},
   "source": [
    "# Questions (Assigment 1)"
   ]
  },
  {
   "cell_type": "code",
   "execution_count": null,
   "id": "b2187100",
   "metadata": {},
   "outputs": [],
   "source": [
    "name,rollno,college name,section\n",
    "filename - name_rollno_collegename_section\n",
    "1) wap to find whether the given num is palindrome or not without using slicing\n",
    "2) wap to find whether the given year is leap year or not\n",
    "3) wap to find whether the given number is prime or not\n",
    "4) wap to find the factorial of a number\n",
    "5) wap to reverse a string using for loop \n",
    "    a=\"my name is abhishek.\"\n",
    "6) wap to reverse the string and print it on same location using for loop \n",
    "7) wap to find the sum of fibbonacci series\n",
    "8) wap to find whether the given number is armstrong or not\n",
    "9) create two string and do the following operations ->\n",
    "    i)starts with\n",
    "    ii)ends with\n",
    "    iii) zfill\n",
    "10) create two list and do the following operations\n",
    "i) add all the elements in a single list\n",
    "ii)reverse the list using for loop"
   ]
  },
  {
   "cell_type": "code",
   "execution_count": 32,
   "id": "5957ef6f",
   "metadata": {},
   "outputs": [
    {
     "name": "stdout",
     "output_type": "stream",
     "text": [
      "palindrome\n"
     ]
    }
   ],
   "source": [
    "# Q1\n",
    "num = 22\n",
    "temp=num\n",
    "rev=0\n",
    "while(num>0):\n",
    "    dig = num %10\n",
    "    rev = rev*10+dig\n",
    "    num = num//10\n",
    "print(\"palindrome\") if temp==rev else print(\"not palindrome\")"
   ]
  },
  {
   "cell_type": "code",
   "execution_count": null,
   "id": "c709f4c7",
   "metadata": {},
   "outputs": [],
   "source": []
  },
  {
   "cell_type": "code",
   "execution_count": 37,
   "id": "f95af751",
   "metadata": {},
   "outputs": [
    {
     "name": "stdout",
     "output_type": "stream",
     "text": [
      "not leap year\n"
     ]
    }
   ],
   "source": [
    "#Q2\n",
    "a = 1700\n",
    "\n",
    "if( a%4==0 and a%100!=0 ) or ( a%100==0 and a%400==0 ):\n",
    "    print(\"leap year\")\n",
    "else:\n",
    "    print(\"not leap year\")"
   ]
  },
  {
   "cell_type": "code",
   "execution_count": 35,
   "id": "1bea1847",
   "metadata": {},
   "outputs": [
    {
     "name": "stdout",
     "output_type": "stream",
     "text": [
      "not prime\n"
     ]
    }
   ],
   "source": [
    "#Q3\n",
    "a = 14\n",
    "if a>1:\n",
    "    for i in range(2,(a//2)+1):\n",
    "        if (a % i) == 0:\n",
    "            print(\"not prime\")\n",
    "            break\n",
    "    else:\n",
    "        print(\"prime\")\n",
    "else:\n",
    "    print(\"not prime\")"
   ]
  },
  {
   "cell_type": "code",
   "execution_count": 36,
   "id": "8b59d448",
   "metadata": {},
   "outputs": [
    {
     "name": "stdout",
     "output_type": "stream",
     "text": [
      "720\n"
     ]
    }
   ],
   "source": [
    "#Q4\n",
    "a=6\n",
    "sum=1\n",
    "while(a>0):\n",
    "    sum = sum * a\n",
    "    a-=1\n",
    "print(sum)"
   ]
  },
  {
   "cell_type": "code",
   "execution_count": 4,
   "id": "64e263f0",
   "metadata": {},
   "outputs": [
    {
     "name": "stdout",
     "output_type": "stream",
     "text": [
      ".kehsihba si eman ym\n"
     ]
    }
   ],
   "source": [
    "#Q5\n",
    "a=\"my name is abhishek.\"\n",
    "rev = \"\"\n",
    "for i in a :\n",
    "    rev = i + rev\n",
    "print(rev)"
   ]
  },
  {
   "cell_type": "code",
   "execution_count": 2,
   "id": "53223c4a",
   "metadata": {},
   "outputs": [
    {
     "name": "stdout",
     "output_type": "stream",
     "text": [
      " ym\n",
      " eman\n",
      " si\n",
      ".kehsihba\n"
     ]
    }
   ],
   "source": [
    "#Q6\n",
    "a=\"my name is abhishek.\"\n",
    "rev = \"\"\n",
    "for i in a :\n",
    "    rev = i + rev\n",
    "    if i==\" \"or (i==a[-1]):\n",
    "        print(rev)\n",
    "        rev=\"\""
   ]
  },
  {
   "cell_type": "code",
   "execution_count": null,
   "id": "2e9dc1ec",
   "metadata": {},
   "outputs": [],
   "source": [
    "#Q6 method 1 - convert string to list,reverse list(using split) and print\n",
    "#   method 2 -"
   ]
  },
  {
   "cell_type": "code",
   "execution_count": 17,
   "id": "f9558ec0",
   "metadata": {},
   "outputs": [
    {
     "name": "stdout",
     "output_type": "stream",
     "text": [
      "Fibonacci Series -> 0 1 1 2 3 "
     ]
    }
   ],
   "source": [
    "#Q7 fibbonacci\n",
    "num = 5\n",
    "n1, n2 = 0, 1\n",
    "print(\"Fibonacci Series ->\", n1, n2, end=\" \")\n",
    "for i in range(2, num):\n",
    "    n3 = n1 + n2\n",
    "    n1 = n2\n",
    "    n2 = n3\n",
    "    print(n3, end=\" \")"
   ]
  },
  {
   "cell_type": "code",
   "execution_count": 23,
   "id": "8d8af203",
   "metadata": {},
   "outputs": [
    {
     "name": "stdout",
     "output_type": "stream",
     "text": [
      "Enter a number: 9474\n",
      "Armstrong\n"
     ]
    }
   ],
   "source": [
    "#Q8 armstrong\n",
    "num = int(input(\"Enter a number: \"))\n",
    "sum = 0\n",
    "length = len(str(num))\n",
    "temp = num\n",
    "while temp > 0:\n",
    "   digit = temp % 10\n",
    "   sum += digit ** length\n",
    "   temp //= 10\n",
    "if num == sum:\n",
    "   print(\"Armstrong\")\n",
    "else:\n",
    "   print(\"not Armstrong\")"
   ]
  },
  {
   "cell_type": "code",
   "execution_count": 29,
   "id": "79a162ec",
   "metadata": {},
   "outputs": [
    {
     "name": "stdout",
     "output_type": "stream",
     "text": [
      "False\n",
      "True\n"
     ]
    }
   ],
   "source": [
    "#Q9(i) starts with\n",
    "s1=\"This is python class\"\n",
    "s2=\"this is data science class\"\n",
    "\n",
    "print(s1.startswith(\"this\"))\n",
    "print(s2.startswith(\"this\"))"
   ]
  },
  {
   "cell_type": "code",
   "execution_count": 32,
   "id": "3556101f",
   "metadata": {},
   "outputs": [
    {
     "name": "stdout",
     "output_type": "stream",
     "text": [
      "True\n",
      "False\n"
     ]
    }
   ],
   "source": [
    "#Q9(ii) ends with\n",
    "s1=\"This is python class\"\n",
    "s2=\"this is data science Class\"\n",
    "\n",
    "print(s1.endswith(\"class\"))\n",
    "print(s2.endswith(\"class\"))"
   ]
  },
  {
   "cell_type": "code",
   "execution_count": 40,
   "id": "cafe9fef",
   "metadata": {},
   "outputs": [
    {
     "name": "stdout",
     "output_type": "stream",
     "text": [
      "This is python class\n",
      "000000000this is data science Class\n"
     ]
    }
   ],
   "source": [
    "#Q9(iii) zfill\n",
    "s1=\"This is python class\"\n",
    "s2=\"this is data science Class\"\n",
    "\n",
    "print(s1.zfill(10))\n",
    "print(s2.zfill(35))"
   ]
  },
  {
   "cell_type": "code",
   "execution_count": 27,
   "id": "64ae6bd2",
   "metadata": {},
   "outputs": [
    {
     "name": "stdout",
     "output_type": "stream",
     "text": [
      "21\n"
     ]
    }
   ],
   "source": [
    "# Q10(i) sum\n",
    "l1 = [1,2,3,4,5,6]\n",
    "sum = 0\n",
    "for i in l1:\n",
    "    sum = sum + i\n",
    "print(sum)"
   ]
  },
  {
   "cell_type": "code",
   "execution_count": 35,
   "id": "5b6c0dab",
   "metadata": {},
   "outputs": [
    {
     "name": "stdout",
     "output_type": "stream",
     "text": [
      "['3', '2', '1']\n"
     ]
    }
   ],
   "source": [
    "# Q10(ii) reverse list using for loop\n",
    "\n",
    "list1=[\"1\",\"2\",\"3\"]\n",
    "rev=[]\n",
    "for i in list1:\n",
    "    rev = [i] + rev\n",
    "    #rev.insert(0,i)\n",
    "print(rev)"
   ]
  },
  {
   "cell_type": "code",
   "execution_count": 7,
   "id": "c72cb769",
   "metadata": {},
   "outputs": [
    {
     "name": "stdout",
     "output_type": "stream",
     "text": [
      "[3, 2, 1]\n"
     ]
    }
   ],
   "source": [
    "# method 2\n",
    "a=[\"1\",\"2\",\"3\"]\n",
    "rev = []\n",
    "for i in range(len(a),0,-1):\n",
    "    rev = rev+[i]\n",
    "print(rev)"
   ]
  },
  {
   "cell_type": "markdown",
   "id": "92140af5",
   "metadata": {},
   "source": [
    "# Question "
   ]
  },
  {
   "cell_type": "code",
   "execution_count": null,
   "id": "6403affe",
   "metadata": {},
   "outputs": [],
   "source": [
    "1) do add,sub,mult,div,mod using menu "
   ]
  },
  {
   "cell_type": "code",
   "execution_count": 18,
   "id": "c2f4ed30",
   "metadata": {},
   "outputs": [
    {
     "ename": "KeyboardInterrupt",
     "evalue": "Interrupted by user",
     "output_type": "error",
     "traceback": [
      "\u001b[1;31m---------------------------------------------------------------------------\u001b[0m",
      "\u001b[1;31mKeyboardInterrupt\u001b[0m                         Traceback (most recent call last)",
      "Cell \u001b[1;32mIn[18], line 3\u001b[0m\n\u001b[0;32m      1\u001b[0m i\u001b[38;5;241m=\u001b[39m\u001b[38;5;241m1\u001b[39m\n\u001b[0;32m      2\u001b[0m \u001b[38;5;28;01mwhile\u001b[39;00m(i\u001b[38;5;241m!=\u001b[39m\u001b[38;5;241m0\u001b[39m):\n\u001b[1;32m----> 3\u001b[0m     choice \u001b[38;5;241m=\u001b[39m \u001b[38;5;28mint\u001b[39m(\u001b[38;5;28minput\u001b[39m(\u001b[38;5;124m\"\u001b[39m\u001b[38;5;124mEnter what do you want to do ?\u001b[39m\u001b[38;5;130;01m\\n\u001b[39;00m\u001b[38;5;124m 1)addition \u001b[39m\u001b[38;5;130;01m\\n\u001b[39;00m\u001b[38;5;124m 2)subtraction \u001b[39m\u001b[38;5;130;01m\\n\u001b[39;00m\u001b[38;5;124m 3)division \u001b[39m\u001b[38;5;130;01m\\n\u001b[39;00m\u001b[38;5;124m 4)multiply \u001b[39m\u001b[38;5;130;01m\\n\u001b[39;00m\u001b[38;5;124m\"\u001b[39m) )\n\u001b[0;32m      4\u001b[0m     \u001b[38;5;28;01mif\u001b[39;00m(choice\u001b[38;5;241m<\u001b[39m\u001b[38;5;241m=\u001b[39m\u001b[38;5;241m4\u001b[39m \u001b[38;5;129;01mand\u001b[39;00m choice\u001b[38;5;241m>\u001b[39m\u001b[38;5;241m0\u001b[39m):\n\u001b[0;32m      6\u001b[0m         n1 \u001b[38;5;241m=\u001b[39m \u001b[38;5;28mint\u001b[39m(\u001b[38;5;28minput\u001b[39m(\u001b[38;5;124m\"\u001b[39m\u001b[38;5;124mEnter number 1 ->\u001b[39m\u001b[38;5;124m\"\u001b[39m))\n",
      "File \u001b[1;32mD:\\application\\anaconda\\Lib\\site-packages\\ipykernel\\kernelbase.py:1175\u001b[0m, in \u001b[0;36mKernel.raw_input\u001b[1;34m(self, prompt)\u001b[0m\n\u001b[0;32m   1171\u001b[0m \u001b[38;5;28;01mif\u001b[39;00m \u001b[38;5;129;01mnot\u001b[39;00m \u001b[38;5;28mself\u001b[39m\u001b[38;5;241m.\u001b[39m_allow_stdin:\n\u001b[0;32m   1172\u001b[0m     \u001b[38;5;28;01mraise\u001b[39;00m StdinNotImplementedError(\n\u001b[0;32m   1173\u001b[0m         \u001b[38;5;124m\"\u001b[39m\u001b[38;5;124mraw_input was called, but this frontend does not support input requests.\u001b[39m\u001b[38;5;124m\"\u001b[39m\n\u001b[0;32m   1174\u001b[0m     )\n\u001b[1;32m-> 1175\u001b[0m \u001b[38;5;28;01mreturn\u001b[39;00m \u001b[38;5;28mself\u001b[39m\u001b[38;5;241m.\u001b[39m_input_request(\n\u001b[0;32m   1176\u001b[0m     \u001b[38;5;28mstr\u001b[39m(prompt),\n\u001b[0;32m   1177\u001b[0m     \u001b[38;5;28mself\u001b[39m\u001b[38;5;241m.\u001b[39m_parent_ident[\u001b[38;5;124m\"\u001b[39m\u001b[38;5;124mshell\u001b[39m\u001b[38;5;124m\"\u001b[39m],\n\u001b[0;32m   1178\u001b[0m     \u001b[38;5;28mself\u001b[39m\u001b[38;5;241m.\u001b[39mget_parent(\u001b[38;5;124m\"\u001b[39m\u001b[38;5;124mshell\u001b[39m\u001b[38;5;124m\"\u001b[39m),\n\u001b[0;32m   1179\u001b[0m     password\u001b[38;5;241m=\u001b[39m\u001b[38;5;28;01mFalse\u001b[39;00m,\n\u001b[0;32m   1180\u001b[0m )\n",
      "File \u001b[1;32mD:\\application\\anaconda\\Lib\\site-packages\\ipykernel\\kernelbase.py:1217\u001b[0m, in \u001b[0;36mKernel._input_request\u001b[1;34m(self, prompt, ident, parent, password)\u001b[0m\n\u001b[0;32m   1214\u001b[0m             \u001b[38;5;28;01mbreak\u001b[39;00m\n\u001b[0;32m   1215\u001b[0m \u001b[38;5;28;01mexcept\u001b[39;00m \u001b[38;5;167;01mKeyboardInterrupt\u001b[39;00m:\n\u001b[0;32m   1216\u001b[0m     \u001b[38;5;66;03m# re-raise KeyboardInterrupt, to truncate traceback\u001b[39;00m\n\u001b[1;32m-> 1217\u001b[0m     \u001b[38;5;28;01mraise\u001b[39;00m \u001b[38;5;167;01mKeyboardInterrupt\u001b[39;00m(\u001b[38;5;124m\"\u001b[39m\u001b[38;5;124mInterrupted by user\u001b[39m\u001b[38;5;124m\"\u001b[39m) \u001b[38;5;28;01mfrom\u001b[39;00m \u001b[38;5;28;01mNone\u001b[39;00m\n\u001b[0;32m   1218\u001b[0m \u001b[38;5;28;01mexcept\u001b[39;00m \u001b[38;5;167;01mException\u001b[39;00m:\n\u001b[0;32m   1219\u001b[0m     \u001b[38;5;28mself\u001b[39m\u001b[38;5;241m.\u001b[39mlog\u001b[38;5;241m.\u001b[39mwarning(\u001b[38;5;124m\"\u001b[39m\u001b[38;5;124mInvalid Message:\u001b[39m\u001b[38;5;124m\"\u001b[39m, exc_info\u001b[38;5;241m=\u001b[39m\u001b[38;5;28;01mTrue\u001b[39;00m)\n",
      "\u001b[1;31mKeyboardInterrupt\u001b[0m: Interrupted by user"
     ]
    }
   ],
   "source": [
    "i=1\n",
    "while(i!=0):\n",
    "    choice = int(input(\"Enter what do you want to do ?\\n 1)addition \\n 2)subtraction \\n 3)division \\n 4)multiply \\n\") )\n",
    "    if(choice<=4 and choice>0):\n",
    "\n",
    "        n1 = int(input(\"Enter number 1 ->\"))\n",
    "        n2 = int(input(\"Enter number 2 ->\"))\n",
    "\n",
    "        if(choice<=4 and choice>0):\n",
    "            if(choice==1):\n",
    "                print(n1+n2)\n",
    "            if(choice==2):\n",
    "                print(n1-n2)\n",
    "            if(choice==3):\n",
    "                print(n1/n2)\n",
    "            if(choice==4):\n",
    "                print(n1*n2)\n",
    "        else:\n",
    "            print(\"Enter the choice again!!\")\n",
    "\n",
    "        i=int(input(\"Enter 0 to end the program and 1 to continue\"))\n",
    "    else:\n",
    "       print(\"Enter correct Choice again \")"
   ]
  },
  {
   "cell_type": "markdown",
   "id": "2c72185b",
   "metadata": {},
   "source": [
    "# Question 2"
   ]
  },
  {
   "cell_type": "code",
   "execution_count": 44,
   "id": "2a839340",
   "metadata": {},
   "outputs": [
    {
     "name": "stdout",
     "output_type": "stream",
     "text": [
      "\t \t Ruby Hospital\n",
      "\t \t -New Delhi,Janakpuri\n",
      "──────────────────────────────────────────────────────────────────────────────────────────────────────────────\n",
      " \n",
      " Enter Patient's Details !!\n",
      "Enter Your Name ->1\n",
      "Enter Your Age ->1\n",
      "Enter Your Gender ->1\n",
      "Enter Your Date of Birth ->1\n",
      "Enter Your Address ->1\n",
      "Enter Your blood Group ->1\n",
      "Enter Your Alternate Contact Number ->1\n",
      "Enter Your Email Address ->1\n",
      "Enter Your Father Name ->1\n",
      "Enter Your disease or symptoms ->1\n",
      "──────────────────────────────────────────────────────────────────────────────────────────────────────────────\n",
      "\t \t Patient Details\n",
      "\n",
      "Patient Name ->1\n",
      "Patient Age ->1\n",
      "Patient Gender ->1\n",
      "Patient Date of Birth ->1\n",
      "Patient Address ->1\n",
      "Patient Blood Group ->1\n",
      "Patient Alternate Contact No ->1\n",
      "Patient Email Address ->1\n",
      "Patient Father Name ->1\n",
      "Patient Symptoms ->1\n",
      "\n",
      "These are the Doctors Available\n",
      "    Sno \t Name \t Specialisation \t \n",
      "    1 \t Dr. Ankush \t Cancer\n",
      "    2 \t Dr. Parth \t Dentist\n",
      "    3 \t Dr. Aman \t Eye\n",
      "    4 \t Dr. Harsh \t Eye\n",
      "    5 \t Dr. Roy \t Eye\n",
      "    Enter the serial number of Doctor You want to appoint ->8\n",
      "These are the Doctors Available\n",
      "    Sno \t Name \t Specialisation \t \n",
      "    1 \t Dr. Ankush \t Cancer\n",
      "    2 \t Dr. Parth \t Dentist\n",
      "    3 \t Dr. Aman \t Eye\n",
      "    4 \t Dr. Harsh \t Eye\n",
      "    5 \t Dr. Roy \t Eye\n",
      "    Enter the serial number of Doctor You want to appoint ->9\n"
     ]
    }
   ],
   "source": [
    "print(\"\\t \\t Ruby Hospital\")\n",
    "print(\"\\t \\t -New Delhi,Janakpuri\")\n",
    "print('─' * 110)\n",
    "print(\" \\n Enter Patient's Details !!\")\n",
    "pname=input(\"Enter Your Name ->\")\n",
    "age=int(input(\"Enter Your Age ->\"))\n",
    "gender=input(\"Enter Your Gender ->\")\n",
    "dob=input(\"Enter Your Date of Birth ->\")\n",
    "address = input(\"Enter Your Address ->\")\n",
    "bgroup=input(\"Enter Your blood Group ->\")\n",
    "Acontact=int(input(\"Enter Your Alternate Contact Number ->\"))\n",
    "email=input(\"Enter Your Email Address ->\")\n",
    "fathname=input(\"Enter Your Father Name ->\")\n",
    "symptom=input(\"Enter Your disease or symptoms ->\")\n",
    "print('─' * 110)\n",
    "print(\"\\t \\t Patient Details\")\n",
    "print('''\n",
    "Patient Name ->{0}\n",
    "Patient Age ->{1}\n",
    "Patient Gender ->{2}\n",
    "Patient Date of Birth ->{3}\n",
    "Patient Address ->{4}\n",
    "Patient Blood Group ->{5}\n",
    "Patient Alternate Contact No ->{6}\n",
    "Patient Email Address ->{7}\n",
    "Patient Father Name ->{8}\n",
    "Patient Symptoms ->{9}\n",
    "'''.format(pname,age,gender,dob,address,bgroup,Acontact,email,fathname,symptom))\n",
    "d1=\"Dr. Ankush\"\n",
    "d2=\"Dr. Parth\"\n",
    "d3=\"Dr. Aman\"\n",
    "d4=\"Dr. Harsh\"\n",
    "d5=\"Dr. Roy\"\n",
    "\n",
    "\n",
    "docchoice = int(input('''These are the Doctors Available\n",
    "    Sno \\t Name \\t Specialisation \\t \n",
    "    1 \\t Dr. Ankush \\t Cancer\n",
    "    2 \\t Dr. Parth \\t Dentist\n",
    "    3 \\t Dr. Aman \\t Eye\n",
    "    4 \\t Dr. Harsh \\t Eye\n",
    "    5 \\t Dr. Roy \\t Eye\n",
    "    Enter the serial number of Doctor You want to appoint ->'''))\n",
    "    \n",
    "if(docchoice>0 and docchoice<6):\n",
    "    if(docchoice==1):\n",
    "        print(\"Doctor {} has been appointed for patient {}\".format(d1,pname))\n",
    "    if(docchoice==2):\n",
    "        print(\"Doctor {} has been appointed for patient {}\".format(d2,pname))\n",
    "    if(docchoice==3):\n",
    "        print(\"Doctor {} has been appointed for patient {}\".format(d3,pname))\n",
    "    if(docchoice==4):\n",
    "        print(\"Doctor {} has been appointed for patient {}\".format(d4,pname))\n",
    "    if(docchoice==5):\n",
    "        print(\"Doctor {} has been appointed for patient {}\".format(d5,pname))\n",
    "    else:\n",
    "        print(\"Enter Choice Again\")\n",
    "else:\n",
    "    docchoice = int(input('''These are the Doctors Available\n",
    "    Sno \\t Name \\t Specialisation \\t \n",
    "    1 \\t Dr. Ankush \\t Cancer\n",
    "    2 \\t Dr. Parth \\t Dentist\n",
    "    3 \\t Dr. Aman \\t Eye\n",
    "    4 \\t Dr. Harsh \\t Eye\n",
    "    5 \\t Dr. Roy \\t Eye\n",
    "    Enter the serial number of Doctor You want to appoint ->'''))"
   ]
  },
  {
   "cell_type": "markdown",
   "id": "4fa5e1c8",
   "metadata": {},
   "source": [
    "# Function"
   ]
  },
  {
   "cell_type": "code",
   "execution_count": null,
   "id": "beed3e70",
   "metadata": {},
   "outputs": [],
   "source": [
    "Q1 wap to create different function for \n"
   ]
  },
  {
   "cell_type": "code",
   "execution_count": 36,
   "id": "0d2fd018",
   "metadata": {},
   "outputs": [
    {
     "name": "stdout",
     "output_type": "stream",
     "text": [
      "Enter Num 1 1\n",
      "Enter Num 2 2\n",
      "3\n",
      "-1\n",
      "2\n",
      "0.5\n"
     ]
    }
   ],
   "source": [
    "a = int(input(\"Enter Num 1 \"))\n",
    "b= int(input(\"Enter Num 2 \"))\n",
    "def add():\n",
    "    c=a+b\n",
    "    print(c)\n",
    "def sub():\n",
    "    c=a-b\n",
    "    print(c)\n",
    "def mult():\n",
    "    c=a*b\n",
    "    print(c)\n",
    "def div():\n",
    "    c=a/b\n",
    "    print(c)\n",
    "add()\n",
    "sub()\n",
    "mult()\n",
    "div()"
   ]
  },
  {
   "cell_type": "code",
   "execution_count": 35,
   "id": "0e9a8444",
   "metadata": {},
   "outputs": [
    {
     "name": "stdout",
     "output_type": "stream",
     "text": [
      "Enter Num 1 1\n",
      "Enter Num 2 2\n"
     ]
    },
    {
     "data": {
      "text/plain": [
       "0.5"
      ]
     },
     "execution_count": 35,
     "metadata": {},
     "output_type": "execute_result"
    }
   ],
   "source": [
    "a = int(input(\"Enter Num 1 \"))\n",
    "b= int(input(\"Enter Num 2 \"))\n",
    "def add():\n",
    "    c=a+b\n",
    "    return c\n",
    "def sub():\n",
    "    c=a-b\n",
    "    return c\n",
    "def mult():\n",
    "    c=a*b\n",
    "    return c\n",
    "def div():\n",
    "    c=a/b\n",
    "    return c\n",
    "add()\n",
    "sub()\n",
    "mult()\n",
    "div()"
   ]
  },
  {
   "cell_type": "code",
   "execution_count": 34,
   "id": "50801ed4",
   "metadata": {},
   "outputs": [
    {
     "name": "stdout",
     "output_type": "stream",
     "text": [
      "Enter Num 1 1\n",
      "Enter Num 2 2\n",
      "3\n",
      "2\n"
     ]
    },
    {
     "data": {
      "text/plain": [
       "0.5"
      ]
     },
     "execution_count": 34,
     "metadata": {},
     "output_type": "execute_result"
    }
   ],
   "source": [
    "a = int(input(\"Enter Num 1 \"))\n",
    "b= int(input(\"Enter Num 2 \"))\n",
    "def add():\n",
    "    c=a+b\n",
    "    print(c)\n",
    "def sub():\n",
    "    c=a-b\n",
    "    return c\n",
    "def mult():\n",
    "    c=a*b\n",
    "    print(c)\n",
    "def div():\n",
    "    c=a/b\n",
    "    return c\n",
    "add()\n",
    "sub()\n",
    "mult()\n",
    "div()"
   ]
  },
  {
   "cell_type": "code",
   "execution_count": 38,
   "id": "edbef6a1",
   "metadata": {},
   "outputs": [
    {
     "name": "stdout",
     "output_type": "stream",
     "text": [
      "Enter Num 1 1\n",
      "Enter Num 2 2\n",
      "-1\n",
      "0.5\n"
     ]
    }
   ],
   "source": [
    "a = int(input(\"Enter Num 1 \"))\n",
    "b= int(input(\"Enter Num 2 \"))\n",
    "def add():\n",
    "    c=a+b\n",
    "    return c\n",
    "def sub():\n",
    "    c=a-b\n",
    "    print(c)\n",
    "def mult():\n",
    "    c=a*b\n",
    "    return c\n",
    "def div():\n",
    "    c=a/b\n",
    "    print(c)\n",
    "add()\n",
    "sub()\n",
    "mult()\n",
    "div()"
   ]
  },
  {
   "cell_type": "code",
   "execution_count": null,
   "id": "ceb502e9",
   "metadata": {},
   "outputs": [],
   "source": []
  }
 ],
 "metadata": {
  "kernelspec": {
   "display_name": "Python 3 (ipykernel)",
   "language": "python",
   "name": "python3"
  },
  "language_info": {
   "codemirror_mode": {
    "name": "ipython",
    "version": 3
   },
   "file_extension": ".py",
   "mimetype": "text/x-python",
   "name": "python",
   "nbconvert_exporter": "python",
   "pygments_lexer": "ipython3",
   "version": "3.11.4"
  }
 },
 "nbformat": 4,
 "nbformat_minor": 5
}
